{
 "cells": [
  {
   "cell_type": "markdown",
   "id": "7db6bf62-bc26-41d7-acc0-527f0d689b7b",
   "metadata": {},
   "source": [
    "# Pre Work Installations for Kaggle API\n",
    "### API Key Creation is needed. (https://www.kaggle.com/settings)\n",
    "### Commands below installs kaggle, moves api key into needed directory, downloads needed datasheet and moves it into data folder.\n",
    "### *Run only Once"
   ]
  },
  {
   "cell_type": "code",
   "execution_count": null,
   "id": "58bda5a5-80df-4a8c-90a3-45ff2cd138d6",
   "metadata": {},
   "outputs": [],
   "source": [
    "!pip install kaggle"
   ]
  },
  {
   "cell_type": "code",
   "execution_count": null,
   "id": "a70e773f-99af-4849-9c00-c09ce321bf64",
   "metadata": {},
   "outputs": [],
   "source": [
    "#Create API Key here\n",
    "#https://www.kaggle.com/settings\n",
    "#Scroll down to API and create new key, should download a json file in downloads folder.\n",
    "\n",
    "#Windows\n",
    "!cp \"%USERPROFILE%/Downloads/kaggle.json\" \"%USERPROFILE%/.kaggle/kaggle.json\"\n",
    "\n",
    "#Linux\n",
    "# !cp \"~/Downloads/kaggle.json\" \"~/.kaggle/kaggle.json\""
   ]
  },
  {
   "cell_type": "code",
   "execution_count": null,
   "id": "d4b7984c-1e9e-4c51-8e64-eef083508860",
   "metadata": {},
   "outputs": [],
   "source": [
    "#https://www.kaggle.com/datasets/souvikahmed071/social-media-and-mental-health\n",
    "!kaggle datasets download -d \"souvikahmed071/social-media-and-mental-health\""
   ]
  },
  {
   "cell_type": "code",
   "execution_count": null,
   "id": "0f68502a-872d-4ffc-ac8d-2b31bea76425",
   "metadata": {},
   "outputs": [],
   "source": [
    "#Windows\n",
    "!mkdir \"%USERPROFILE%/.kaggle\"\n",
    "\n",
    "#Linux/Mac\n",
    "# !mkdir ~/.kaggle"
   ]
  },
  {
   "cell_type": "code",
   "execution_count": null,
   "id": "bd786a1c-d73d-49fc-8ad6-1a259baea3eb",
   "metadata": {},
   "outputs": [],
   "source": [
    "#Install Unzip command\n",
    "!pip install unzip"
   ]
  },
  {
   "cell_type": "code",
   "execution_count": null,
   "id": "9c90fad9-b773-4484-93a7-249421232a79",
   "metadata": {},
   "outputs": [],
   "source": [
    "#Unzip downloaded datasheet into newly created data folder\n",
    "!unzip social-media-and-mental-health.zip -d data/"
   ]
  },
  {
   "cell_type": "code",
   "execution_count": null,
   "id": "6b1139ad-4968-4d57-a75c-2cc645db03b5",
   "metadata": {},
   "outputs": [],
   "source": [
    "#Do not Need\n",
    "!rm data/Correlation_between_Social_Media_use_and_Mental_Health.ipynb data/README.md"
   ]
  },
  {
   "cell_type": "markdown",
   "id": "3fc16d54-0578-49ec-b21f-1e680590511b",
   "metadata": {},
   "source": [
    "# Begin Here"
   ]
  },
  {
   "cell_type": "code",
   "execution_count": null,
   "id": "bc21557f-6d81-403d-bb57-f6dc7532d93b",
   "metadata": {},
   "outputs": [],
   "source": [
    "#importing dependencies \n",
    "import hvplot.pandas\n",
    "import pandas as pd\n",
    "import matplotlib.pyplot as plt\n",
    "import numpy as np\n",
    "from scipy.stats import linregress"
   ]
  },
  {
   "cell_type": "code",
   "execution_count": null,
   "id": "8b1dc2ab-ba2f-4266-ae00-2174e76f1b1a",
   "metadata": {},
   "outputs": [],
   "source": [
    "main_df = pd.read_csv(\"data/smmh.csv\")\n",
    "main_df"
   ]
  },
  {
   "cell_type": "code",
   "execution_count": null,
   "id": "82746ae2-dbf9-44fb-b5c1-f633f34eba1d",
   "metadata": {},
   "outputs": [],
   "source": [
    "def relabel_averageTime(row):\n",
    "    if row['8. What is the average time you spend on social media every day?'] in ['Less than an Hour','Between 1 and 2 hours', 'Between 2 and 3 hours']:\n",
    "        return '0-3 hours'\n",
    "    elif row['8. What is the average time you spend on social media every day?'] in ['Between 3 and 4 hours', 'Between 4 and 5 hours']:\n",
    "        return '3-5 hours'\n",
    "    elif row['8. What is the average time you spend on social media every day?'] in ['More than 5 hours']:\n",
    "        return '5+ hours'\n",
    "\n",
    "#Run the apply method to df for each row calling relabel function\n",
    "main_df['Average Time on Social Media'] = main_df.apply(lambda row: relabel_averageTime(row), axis=1)\n",
    "\n",
    "#Remove Old Column\n",
    "del main_df['8. What is the average time you spend on social media every day?']\n",
    "\n"
   ]
  },
  {
   "cell_type": "code",
   "execution_count": null,
   "id": "bf22470e-3c80-4494-bca4-b08751e20ce9",
   "metadata": {},
   "outputs": [],
   "source": [
    "#Keep only rows who use social media\n",
    "main_df = main_df.loc[main_df[\"6. Do you use social media?\"]==\"Yes\", :].copy()\n"
   ]
  },
  {
   "cell_type": "code",
   "execution_count": null,
   "id": "d68e6e02-af2e-4062-9835-8b4e091c55c6",
   "metadata": {},
   "outputs": [],
   "source": [
    "column_list = main_df.columns.tolist()\n",
    "print(column_list)"
   ]
  },
  {
   "cell_type": "code",
   "execution_count": null,
   "id": "9ea3c351-7730-4e0d-b7c2-30a308b1941a",
   "metadata": {},
   "outputs": [],
   "source": [
    "#main_df"
   ]
  },
  {
   "cell_type": "code",
   "execution_count": null,
   "id": "7a185506-5615-498d-b138-a5eac674dc77",
   "metadata": {},
   "outputs": [],
   "source": []
  },
  {
   "cell_type": "markdown",
   "id": "7fea409c-3208-43fa-8f4f-1f12e8477042",
   "metadata": {},
   "source": [
    "Age Groups Surveyed"
   ]
  },
  {
   "cell_type": "code",
   "execution_count": null,
   "id": "f2085812-5cad-4d26-a0c2-3c3efab808c1",
   "metadata": {},
   "outputs": [],
   "source": [
    "ages_surveyed = main_df.iloc[:, 1].value_counts()\n",
    "#print(ages_surveyed.head(10))\n",
    "print(ages_surveyed.tail(10))"
   ]
  },
  {
   "cell_type": "code",
   "execution_count": null,
   "id": "c202c325-39df-470e-af0e-54dca6d95039",
   "metadata": {},
   "outputs": [],
   "source": [
    "# Initial bar chart showing age distribution of those surveyed\n",
    "plt.bar(ages_surveyed.index.values,ages_surveyed.values)\n",
    "\n",
    "# Rotate drug names for readability\n",
    "plt.xticks(rotation=0)\n",
    "\n",
    "# X and Y axis names\n",
    "plt.xlabel(\"Ages of Those Surveyed\")\n",
    "plt.ylabel(\"Total per Age\")\n",
    "plt.show()\n"
   ]
  },
  {
   "cell_type": "code",
   "execution_count": null,
   "id": "3530b75f-1c28-441c-b406-7621becf6744",
   "metadata": {},
   "outputs": [],
   "source": [
    "# Custom age ranges\n",
    "bins = [0, 9, 19, 29, 39, 49, 59, float('inf')]\n",
    "\n",
    "# Labels for the age groups\n",
    "labels = ['0-9', '10-19', '20-29', '30-39','40-49','50-59', '60-95']  \n",
    "\n",
    "main_df['Age Groups'] = pd.cut(main_df['1. What is your age?'], bins=bins, labels=labels,include_lowest=True)\n",
    "\n",
    "# Count the number of individuals in each age group\n",
    "age_group_counts = main_df['Age Groups'].value_counts()\n",
    "\n",
    "# List ascending age groups \n",
    "age_group_counts=age_group_counts.sort_index()\n",
    "\n",
    "# Plotting the bar chart\n",
    "age_group_counts.plot(kind='bar')\n",
    "\n",
    "# Adding some personality to the chart\n",
    "plt.xlabel('Age Groups')\n",
    "plt.ylabel('Count')\n",
    "plt.title('Age Group Distribution')\n",
    "plt.xticks(rotation=0)\n",
    "\n",
    "# Display the chart\n",
    "plt.show()"
   ]
  },
  {
   "cell_type": "markdown",
   "id": "eb8c5889-3efe-45ce-b217-33428382461d",
   "metadata": {},
   "source": [
    "Genders Surveyed"
   ]
  },
  {
   "cell_type": "code",
   "execution_count": null,
   "id": "3dfccee3-7e67-48a9-bb2e-7f3cc22a0167",
   "metadata": {},
   "outputs": [],
   "source": [
    "# Catalogue all genders surveyed\n",
    "genders_surveyed = set(main_df['2. Gender'])\n",
    "print(genders_surveyed)"
   ]
  },
  {
   "cell_type": "code",
   "execution_count": null,
   "id": "3621cd66-ab8c-4545-a3aa-8314d44253be",
   "metadata": {},
   "outputs": [],
   "source": [
    "# Create an \"Others\" group so results fall under \"Male\", \"Female\", or \"Other\"\n",
    "main_df.replace('unsure ','Others', inplace=True)\n",
    "main_df.replace('There are others???','Others', inplace=True)\n",
    "main_df.replace('NB','Others', inplace=True)\n",
    "main_df.replace('Trans','Others', inplace=True)\n",
    "main_df.replace('Non binary ','Others', inplace=True)\n",
    "main_df.replace('Nonbinary ','Others', inplace=True)\n",
    "main_df.replace('Non-binary','Others', inplace=True)\n",
    "\n",
    "genders_surveyed = set(main_df['2. Gender'])\n",
    "print(genders_surveyed)"
   ]
  },
  {
   "cell_type": "code",
   "execution_count": null,
   "id": "1e84ed62-aa42-4561-ab38-c6be5c96bd8e",
   "metadata": {},
   "outputs": [],
   "source": [
    "# Counts for each gender category\n",
    "gender_counts = main_df['2. Gender'].value_counts()\n",
    "gender_counts"
   ]
  },
  {
   "cell_type": "code",
   "execution_count": null,
   "id": "5eedc105-19e9-42a4-86c9-d273718af45f",
   "metadata": {},
   "outputs": [],
   "source": [
    "genders_surveyed = main_df['2. Gender'].value_counts()\n",
    "\n",
    "# Plotting the bar chart\n",
    "plt.bar(gender_counts.index, gender_counts)\n",
    "plt.xlabel('Gender')\n",
    "plt.ylabel('Count')\n",
    "plt.title('Survey Gender Distribution')\n",
    "\n",
    "# Rotating x-axis labels \n",
    "plt.xticks(rotation=45)\n",
    "\n",
    "# Adding percentagess to bar chart\n",
    "total = gender_counts.sum()\n",
    "for i, count in enumerate(gender_counts):\n",
    "    percentage = count / total * 100\n",
    "    plt.text(i, count, f'{percentage:.1f}%', ha='center', va='bottom')\n",
    "\n",
    "plt.show()"
   ]
  },
  {
   "cell_type": "code",
   "execution_count": null,
   "id": "185bf289-702e-4000-a3d6-1cbcd22db522",
   "metadata": {},
   "outputs": [],
   "source": [
    "main_df"
   ]
  },
  {
   "cell_type": "markdown",
   "id": "c9bffccd-e78f-40b6-9c82-419093b20b0f",
   "metadata": {},
   "source": [
    "# Collection of App Usage vs Mental Health\n",
    "\n",
    "## Does a specific SM platform or collection of platforms lead to more issues than others? \n",
    "\n",
    "- The most common Social Media Platform among the surveyed data were Facebook, Instagram, YouTube.\n",
    "- Facebook and Instagram can be associated for comparison that may be leading to negative emotions.\n",
    "- We do not have specific data regarding how a distinct platform makes the recipient feel. Deducing the data to one recorded platform from the top 3 did not lead to enough information for a conclusion.\n",
    "- Users in this sample tend to use more than one platform along with the top three most popular recorded.\n",
    "\n",
    "## Whether a collection of app platform usage leads to more of an impact on mental health?\n",
    "- The distribution among the dataset had on average 3-5 social media platforms. More specifically on average 4 platforms.\n",
    "- The Average Total Frequency Score saw an increase of 12% from the 1-2 social media platform group to 3-5 group which is a minor increase. Which may suggest multiple platforms can lead to more of an impact on attention throughout the day when engaging in multiple platforms. \n",
    "- The 1-2 Social Media Platform group also had on average an hour less spent on social media than the 3-5 and 6+ platform groups."
   ]
  },
  {
   "cell_type": "code",
   "execution_count": null,
   "id": "0112fbf7-3c52-4636-94f6-bb4e920b501c",
   "metadata": {},
   "outputs": [],
   "source": [
    "#Remove Timestamp; do not really need\n",
    "socialApps_df = main_df.iloc[:, 1:]\n",
    "socialApps_df.head()"
   ]
  },
  {
   "cell_type": "code",
   "execution_count": null,
   "id": "8f3b6010-9b4f-48a5-9911-98783e5d87fa",
   "metadata": {},
   "outputs": [],
   "source": [
    "#Get Number of Social Apps into a List\n",
    "appsList = socialApps_df.iloc[:, 6]\n",
    "\n",
    "#Creating a variable to store # amount of apps\n",
    "numberOfApps = []\n",
    "\n",
    "#Creating a variable to store list of the split result string list\n",
    "listOfApps = []\n",
    "\n",
    "for app in appsList:\n",
    "    listOfApps.append(app.split(\";\"))"
   ]
  },
  {
   "cell_type": "code",
   "execution_count": null,
   "id": "5f9e3156-4701-4bd7-bc34-467d3f6e828c",
   "metadata": {},
   "outputs": [],
   "source": [
    "#Add Number of Apps to DF\n",
    "\n",
    "listOfNumberApps = [len(x) for x in listOfApps]\n",
    "\n",
    "#Add to social apps df\n",
    "socialApps_df['Number of Apps'] = listOfNumberApps"
   ]
  },
  {
   "cell_type": "code",
   "execution_count": null,
   "id": "de296e5f-9e8e-4d81-b360-2ec59357ac84",
   "metadata": {},
   "outputs": [],
   "source": [
    "#Rename columns to respective type of question.\n",
    "socialApps_df.rename(columns = {'9. How often do you find yourself using Social media without a specific purpose?':'ADHD Q1',\n",
    "                       '10. How often do you get distracted by Social media when you are busy doing something?':'ADHD Q2',\n",
    "                       \"11. Do you feel restless if you haven't used Social media in a while?\":'Anxiety Q1',\n",
    "                       '12. On a scale of 1 to 5, how easily distracted are you?':'ADHD Q3',\n",
    "                       '13. On a scale of 1 to 5, how much are you bothered by worries?':'Anxiety Q2',\n",
    "                       '14. Do you find it difficult to concentrate on things?':'ADHD Q4',\n",
    "                       '15. On a scale of 1-5, how often do you compare yourself to other successful people through the use of social media?':'Self Esteem Q1',\n",
    "                       '17. How often do you look to seek validation from features of social media?':'Self Esteem Q2',\n",
    "                       '18. How often do you feel depressed or down?':'Depression Q1',\n",
    "                       '19. On a scale of 1 to 5, how frequently does your interest in daily activities fluctuate?':'Depression Q2',\n",
    "                       '20. On a scale of 1 to 5, how often do you face issues regarding sleep?':'Depression Q3' },inplace=True)\n"
   ]
  },
  {
   "cell_type": "code",
   "execution_count": null,
   "id": "7e4a090d-85aa-4ded-b9f0-91824ffd8f38",
   "metadata": {},
   "outputs": [],
   "source": [
    "# Custom app ranges\n",
    "appBins = [1, 2, 5, 20]\n",
    "\n",
    "# Labels for the app groups\n",
    "appLabels = ['1-2', '3-5', '6+']  \n",
    "\n",
    "#Bin the new groups\n",
    "socialApps_df['App Groups'] = pd.cut(socialApps_df['Number of Apps'], bins=appBins, labels=appLabels,include_lowest=True)"
   ]
  },
  {
   "cell_type": "code",
   "execution_count": null,
   "id": "fbdcfe5d-7821-43ca-a469-fc2abf13f46a",
   "metadata": {},
   "outputs": [],
   "source": [
    "socialApps_df.head()"
   ]
  },
  {
   "cell_type": "code",
   "execution_count": null,
   "id": "f13a1502-416b-44f0-84d9-9cd3e9c3daa8",
   "metadata": {},
   "outputs": [],
   "source": [
    "#Create a chart to detail time spent on social media vs amount of platforms\n",
    "statSummary = socialApps_df.groupby('Average Time on Social Media')\n",
    "\n",
    "averageNumberOfApps = statSummary['Number of Apps'].mean()\n",
    "\n",
    "plt.bar(averageNumberOfApps.index, averageNumberOfApps, edgecolor='black')\n",
    "plt.xlabel(\"Average Time Spent on Social Media\")\n",
    "plt.ylabel(\"Average Amount of Apps\")\n",
    "plt.title('Average Time Spent vs Average Amount of Platforms')\n",
    "plt.yticks(np.arange(0,5,step=0.5))\n",
    "plt.show()\n",
    "averageNumberOfApps"
   ]
  },
  {
   "cell_type": "code",
   "execution_count": null,
   "id": "8cdf8907-e47d-42d7-9849-070152354c8d",
   "metadata": {},
   "outputs": [],
   "source": [
    "from collections import Counter\n",
    "\n",
    "#Flatten List of lists ex: ([[\"A\"], [\"B\"], [\"C\"]] = [\"A\", \"B\", \"C\"])\n",
    "appsTotalList = [item for sublist in listOfApps for item in sublist]\n",
    "\n",
    "#Count total amount of recorded platforms\n",
    "recordedAppsTotal = Counter(appsTotalList)\n",
    "\n",
    "#Create into DF\n",
    "recordedAppsTotal_df = pd.DataFrame.from_dict(recordedAppsTotal, orient='index', columns=[\"Total\"])"
   ]
  },
  {
   "cell_type": "code",
   "execution_count": null,
   "id": "a16572e8-6166-4b2f-ac5a-cd6aabec4faa",
   "metadata": {},
   "outputs": [],
   "source": [
    "#Plot the recorded results of platforms\n",
    "plt.bar(recordedAppsTotal_df.index, recordedAppsTotal_df['Total'], width=0.6, align='center', color='blue', edgecolor='black')\n",
    "plt.xticks(rotation=45)\n",
    "plt.title('Total Amount for Platforms Used')\n",
    "plt.ylabel('Total Amount Reported')\n",
    "plt.xlabel('Social Media Platforms')\n",
    "plt.show()\n",
    "recordedAppsTotal_df"
   ]
  },
  {
   "cell_type": "code",
   "execution_count": null,
   "id": "9fcfdf89-c4f6-40ad-a84b-22008f80dbe7",
   "metadata": {},
   "outputs": [],
   "source": [
    "#Create a column for ADHD Total questions, 4 Question total (20 points Max)\n",
    "socialApps_df['ADHD Total Score'] = socialApps_df['ADHD Q1'] + socialApps_df['ADHD Q2'] + socialApps_df['ADHD Q3'] + socialApps_df['ADHD Q4']\n",
    "\n",
    "#Create a column for Self Esteem Total questions, 2 Question total (10 points Max)\n",
    "socialApps_df['Self Esteem Total Score'] = socialApps_df['Self Esteem Q1'] + socialApps_df['Self Esteem Q2']\n",
    "\n",
    "#Create a column for Anxiety Total questions, 2 Question total (10 points Max)\n",
    "socialApps_df['Anxiety Total Score'] = socialApps_df['Anxiety Q1'] + socialApps_df['Anxiety Q2']\n",
    "\n",
    "#Create a column for Depression total questions, 3 Question total (15 points Max)\n",
    "socialApps_df['Depression Total Score'] = socialApps_df['Depression Q1'] + socialApps_df['Depression Q2'] + socialApps_df['Depression Q3']\n",
    "\n",
    "#Create a column for Total Amount of questions, 11 Question total (55 points Max)\n",
    "socialApps_df['Total Score'] = socialApps_df['ADHD Total Score'] + socialApps_df['Self Esteem Total Score'] + socialApps_df['Anxiety Total Score'] + socialApps_df['Depression Total Score']\n"
   ]
  },
  {
   "cell_type": "code",
   "execution_count": null,
   "id": "bea885ce-ba8a-4010-95fd-c166a7006914",
   "metadata": {},
   "outputs": [],
   "source": [
    "#Filter for specific platform of the top 3, Facebook\n",
    "filtered_list = []\n",
    "for index, row in socialApps_df.iterrows():\n",
    "    temp = row['7. What social media platforms do you commonly use?'].split()\n",
    "    if 'Facebook' in temp and len(temp) == 1:\n",
    "        filtered_list.append(row)\n",
    "filtered_df = pd.DataFrame(filtered_list)\n",
    "filtered_df.head()"
   ]
  },
  {
   "cell_type": "code",
   "execution_count": null,
   "id": "a73ac1e3-716b-4bfb-89de-632ee2541d0c",
   "metadata": {},
   "outputs": [],
   "source": [
    "#Filter for specific platform of the top 3, Instagram\n",
    "filtered_list_in = []\n",
    "for index, row in socialApps_df.iterrows():\n",
    "    temp = row['7. What social media platforms do you commonly use?'].split()\n",
    "    if 'Instagram' in temp and len(temp) == 1:\n",
    "        filtered_list_in.append(row)\n",
    "filteredIn_df = pd.DataFrame(filtered_list_in)\n",
    "filteredIn_df.head()"
   ]
  },
  {
   "cell_type": "code",
   "execution_count": null,
   "id": "bf773d6c-467a-4a0d-bf53-ceff8ac2990a",
   "metadata": {},
   "outputs": [],
   "source": [
    "#Filter for specific platform of the top 3, YouTube\n",
    "filtered_list_yt = []\n",
    "for index, row in socialApps_df.iterrows():\n",
    "    temp = row['7. What social media platforms do you commonly use?'].split()\n",
    "    if 'YouTube' in temp and len(temp) == 1:\n",
    "        filtered_list_yt.append(row)\n",
    "filteredYT_df = pd.DataFrame(filtered_list_yt)\n",
    "filteredYT_df.head()"
   ]
  },
  {
   "cell_type": "code",
   "execution_count": null,
   "id": "41cbc7f1-1d45-4416-8f89-3fd269a017e1",
   "metadata": {},
   "outputs": [],
   "source": [
    "#Plot the individual platform average scores.\n",
    "fig, (ax1, ax2, ax3) = plt.subplots(1, 3)\n",
    "\n",
    "ax1.boxplot(filtered_df['Total Score'])\n",
    "ax2.boxplot(filteredIn_df['Total Score'])\n",
    "ax3.boxplot(filteredYT_df['Total Score'])\n",
    "ax1.set_ylabel('Average Frequency Score from Recipients')\n",
    "ax2.set_xlabel('Platform')\n",
    "ax2.set_title('Platform vs Average Total Score')\n",
    "ax1.set_xticklabels(['Facebook'])\n",
    "ax2.set_xticklabels(['Instagram'])\n",
    "ax3.set_xticklabels(['YouTube'])\n",
    "ax2.set_yticks(np.arange(32, 50, step=2))\n",
    "plt.yticks(np.arange(5, 50, step=5))\n",
    "plt.show()"
   ]
  },
  {
   "cell_type": "code",
   "execution_count": null,
   "id": "e540c4dc-3e4a-499f-913a-279921a48c40",
   "metadata": {},
   "outputs": [],
   "source": [
    "#Show columns in social apps\n",
    "socialApps_df.columns"
   ]
  },
  {
   "cell_type": "code",
   "execution_count": null,
   "id": "dd6be427-aeca-4c18-81ba-ec3cd3b25cd3",
   "metadata": {},
   "outputs": [],
   "source": [
    "#Aggregate Averages for Tendency by Category and Total\n",
    "totalScoreNumberOfApps = socialApps_df.groupby('App Groups').agg({'ADHD Total Score': 'mean', 'Self Esteem Total Score': 'mean',\n",
    "       'Anxiety Total Score': 'mean', 'Depression Total Score': 'mean', 'Total Score': 'mean'})\n",
    "\n",
    "X_axis = np.arange(len(totalScoreNumberOfApps.index))\n",
    "\n",
    "#Plot the average question type scores amongst the groups\n",
    "plt.bar(X_axis - 0.34, totalScoreNumberOfApps['Self Esteem Total Score'], width=0.2, edgecolor='black', zorder=3)\n",
    "plt.bar(X_axis - 0.11, totalScoreNumberOfApps['Anxiety Total Score'], width=0.2, edgecolor='black', zorder=3)\n",
    "plt.bar(X_axis + 0.11, totalScoreNumberOfApps['Depression Total Score'], width=0.2, edgecolor='black', zorder=3)\n",
    "plt.bar(X_axis + 0.34, totalScoreNumberOfApps['ADHD Total Score'], width=0.2, edgecolor='black', zorder=3)\n",
    "plt.xticks(X_axis, totalScoreNumberOfApps.index)\n",
    "plt.yticks(np.arange(0, 20 , step=2))\n",
    "plt.grid(axis='y', color='gray', linewidth=0.4, zorder=0)\n",
    "plt.legend(['Avg Self Esteem Total Score (2 Q)', 'Avg Anxiety Total Score (2 Q)', 'Avg Depression Total Score (3 Q)','Avg ADHD Total Score (4 Q)'], bbox_to_anchor=(1, 1))\n",
    "plt.ylabel('Average Scores *Higher being worse')\n",
    "plt.xlabel('Collection of Platform Groups')\n",
    "plt.annotate(\"31\", (0,14))\n",
    "plt.annotate(\"35\", (1,14))\n",
    "plt.annotate(\"37\", (2,14))\n",
    "plt.title('Average Tendency Score vs Number of Platorms')\n",
    "plt.savefig('output_data/averageTendencyScorePlatforms')\n",
    "plt.show()\n",
    "totalScoreNumberOfApps"
   ]
  },
  {
   "cell_type": "code",
   "execution_count": null,
   "id": "897fca61-895d-4067-b224-54deb5917f0a",
   "metadata": {},
   "outputs": [],
   "source": [
    "#Plot the distribution of Platforms used\n",
    "variationNumberOfApps = socialApps_df.groupby('Number of Apps')\n",
    "\n",
    "test3 = variationNumberOfApps.count()\n",
    "plt.bar(test3.index, test3['2. Gender'], align='center', edgecolor='black')\n",
    "plt.ylabel('Total Number of Recipients')\n",
    "plt.xlabel('Number of Platforms')\n",
    "plt.title('Distribution of Number of Platforms vs Number of Recipients')\n",
    "plt.xticks(test3.index)\n",
    "plt.savefig('output_data/distributionNumberOfPlatforms')\n",
    "plt.show()"
   ]
  },
  {
   "cell_type": "code",
   "execution_count": null,
   "id": "43125bd3-8714-4a97-b91d-1e70d523462f",
   "metadata": {},
   "outputs": [],
   "source": [
    "#Scatter plot number of apps vs total frequency score\n",
    "plt.scatter(socialApps_df['Number of Apps'], socialApps_df['Total Score'] , marker='o', alpha=0.6, edgecolors='black', s=60)\n",
    "\n",
    "#Perform linear regression\n",
    "slope, intercept, r, p, stderr = linregress(socialApps_df['Number of Apps'], socialApps_df['Total Score'])\n",
    "\n",
    "#y=mx+b\n",
    "line = slope * socialApps_df['Number of Apps'] + intercept\n",
    "\n",
    "#Create plot\n",
    "plt.plot(socialApps_df['Number of Apps'], line, 'r')\n",
    "plt.annotate(f\"y={slope:0.02f}x + {intercept:0.02f}\", (6, 10), color='r')\n",
    "plt.ylabel('Total Score from Recipients')\n",
    "plt.xlabel('Number of Platforms')\n",
    "plt.title('Total Frequency Score vs Number of Platforms')\n",
    "plt.yticks(np.arange(5, 65, step=5))\n",
    "plt.savefig('output_data/totalFrequencyVsNumberPlatforms')\n",
    "plt.show()\n",
    "#Weak Correlation\n",
    "print(f\"Pearson Correlation Factor: {r:0.02f}, Weak Correlation\")"
   ]
  },
  {
   "cell_type": "code",
   "execution_count": null,
   "id": "e3888766-9044-49d8-a220-af322932bbe0",
   "metadata": {},
   "outputs": [],
   "source": []
  }
 ],
 "metadata": {
  "kernelspec": {
   "display_name": "Python 3 (ipykernel)",
   "language": "python",
   "name": "python3"
  },
  "language_info": {
   "codemirror_mode": {
    "name": "ipython",
    "version": 3
   },
   "file_extension": ".py",
   "mimetype": "text/x-python",
   "name": "python",
   "nbconvert_exporter": "python",
   "pygments_lexer": "ipython3",
   "version": "3.10.11"
  }
 },
 "nbformat": 4,
 "nbformat_minor": 5
}
