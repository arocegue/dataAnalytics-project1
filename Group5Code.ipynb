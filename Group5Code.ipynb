{
 "cells": [
  {
   "cell_type": "markdown",
   "id": "7db6bf62-bc26-41d7-acc0-527f0d689b7b",
   "metadata": {
    "tags": []
   },
   "source": [
    "# Pre Work Installations for Kaggle API\n",
    "### API Key Creation is needed. (https://www.kaggle.com/settings)\n",
    "### Commands below installs kaggle, moves api key into needed directory, downloads needed datasheet and moves it into data folder.\n",
    "### *Run only Once"
   ]
  },
  {
   "cell_type": "code",
   "execution_count": null,
   "id": "58bda5a5-80df-4a8c-90a3-45ff2cd138d6",
   "metadata": {},
   "outputs": [],
   "source": [
    "!pip install kaggle"
   ]
  },
  {
   "cell_type": "code",
   "execution_count": null,
   "id": "a70e773f-99af-4849-9c00-c09ce321bf64",
   "metadata": {},
   "outputs": [],
   "source": [
    "#Create API Key here\n",
    "#https://www.kaggle.com/settings\n",
    "#Scroll down to API and create new key, should download a json file in downloads folder.\n",
    "\n",
    "#Windows\n",
    "!cp \"%USERPROFILE%/Downloads/kaggle.json\" \"%USERPROFILE%/.kaggle/kaggle.json\"\n",
    "\n",
    "#Linux\n",
    "# !cp \"~/Downloads/kaggle.json\" \"~/.kaggle/kaggle.json\""
   ]
  },
  {
   "cell_type": "code",
   "execution_count": null,
   "id": "d4b7984c-1e9e-4c51-8e64-eef083508860",
   "metadata": {},
   "outputs": [],
   "source": [
    "#https://www.kaggle.com/datasets/souvikahmed071/social-media-and-mental-health\n",
    "!kaggle datasets download -d \"souvikahmed071/social-media-and-mental-health\""
   ]
  },
  {
   "cell_type": "code",
   "execution_count": null,
   "id": "0f68502a-872d-4ffc-ac8d-2b31bea76425",
   "metadata": {},
   "outputs": [],
   "source": [
    "#Windows\n",
    "!mkdir \"%USERPROFILE%/.kaggle\"\n",
    "\n",
    "#Linux/Mac\n",
    "# !mkdir ~/.kaggle"
   ]
  },
  {
   "cell_type": "code",
   "execution_count": null,
   "id": "bd786a1c-d73d-49fc-8ad6-1a259baea3eb",
   "metadata": {},
   "outputs": [],
   "source": [
    "#Install Unzip command\n",
    "!pip install unzip"
   ]
  },
  {
   "cell_type": "code",
   "execution_count": null,
   "id": "9c90fad9-b773-4484-93a7-249421232a79",
   "metadata": {},
   "outputs": [],
   "source": [
    "#Unzip downloaded datasheet into newly created data folder\n",
    "!unzip social-media-and-mental-health.zip -d data/"
   ]
  },
  {
   "cell_type": "code",
   "execution_count": null,
   "id": "6b1139ad-4968-4d57-a75c-2cc645db03b5",
   "metadata": {},
   "outputs": [],
   "source": [
    "#Do not Need\n",
    "!rm data/Correlation_between_Social_Media_use_and_Mental_Health.ipynb data/README.md"
   ]
  },
  {
   "cell_type": "markdown",
   "id": "3fc16d54-0578-49ec-b21f-1e680590511b",
   "metadata": {
    "tags": []
   },
   "source": [
    "# Begin Here"
   ]
  },
  {
   "cell_type": "code",
   "execution_count": null,
   "id": "bc21557f-6d81-403d-bb57-f6dc7532d93b",
   "metadata": {},
   "outputs": [],
   "source": [
    "#importing dependencies \n",
    "import hvplot.pandas\n",
    "import pandas as pd\n",
    "import matplotlib.pyplot as plt\n",
    "import numpy as np\n",
    "import scipy.stats as stats\n",
    "from scipy.stats import linregress\n",
    "from scipy.stats import linregress\n",
    "from scipy.stats import pearsonr\n",
    "from scipy.stats import ttest_1samp\n",
    "from scipy.stats import ttest_ind"
   ]
  },
  {
   "cell_type": "code",
   "execution_count": null,
   "id": "8b1dc2ab-ba2f-4266-ae00-2174e76f1b1a",
   "metadata": {},
   "outputs": [],
   "source": [
    "main_df = pd.read_csv(\"archive/smmh.csv\")\n",
    "main_df"
   ]
  },
  {
   "cell_type": "code",
   "execution_count": null,
   "id": "82746ae2-dbf9-44fb-b5c1-f633f34eba1d",
   "metadata": {},
   "outputs": [],
   "source": [
    "def relabel_averageTime(row):\n",
    "    if row['8. What is the average time you spend on social media every day?'] in ['Less than an Hour','Between 1 and 2 hours', 'Between 2 and 3 hours']:\n",
    "        return '0-3 hours'\n",
    "    elif row['8. What is the average time you spend on social media every day?'] in ['Between 3 and 4 hours', 'Between 4 and 5 hours']:\n",
    "        return '3-5 hours'\n",
    "    elif row['8. What is the average time you spend on social media every day?'] in ['More than 5 hours']:\n",
    "        return '5+ hours'\n",
    "\n",
    "#Run the apply method to df for each row calling relabel function\n",
    "main_df['Average Time on Social Media'] = main_df.apply(lambda row: relabel_averageTime(row), axis=1)\n",
    "\n",
    "\n"
   ]
  },
  {
   "cell_type": "code",
   "execution_count": null,
   "id": "bf22470e-3c80-4494-bca4-b08751e20ce9",
   "metadata": {},
   "outputs": [],
   "source": [
    "#Keep only rows who use social media\n",
    "main_df = main_df.loc[main_df[\"6. Do you use social media?\"]==\"Yes\", :].copy()\n"
   ]
  },
  {
   "cell_type": "code",
   "execution_count": null,
   "id": "d68e6e02-af2e-4062-9835-8b4e091c55c6",
   "metadata": {},
   "outputs": [],
   "source": [
    "column_list = main_df.columns.tolist()\n",
    "print(column_list)"
   ]
  },
  {
   "cell_type": "code",
   "execution_count": null,
   "id": "9ea3c351-7730-4e0d-b7c2-30a308b1941a",
   "metadata": {},
   "outputs": [],
   "source": [
    "main_df"
   ]
  },
  {
   "cell_type": "markdown",
   "id": "7fea409c-3208-43fa-8f4f-1f12e8477042",
   "metadata": {
    "tags": []
   },
   "source": [
    "## Age Groups Surveyed"
   ]
  },
  {
   "cell_type": "code",
   "execution_count": null,
   "id": "f2085812-5cad-4d26-a0c2-3c3efab808c1",
   "metadata": {},
   "outputs": [],
   "source": [
    "ages_surveyed = main_df.iloc[:, 1].value_counts()\n",
    "#print(ages_surveyed.head(10))\n",
    "print(ages_surveyed.tail(10))"
   ]
  },
  {
   "cell_type": "code",
   "execution_count": null,
   "id": "c202c325-39df-470e-af0e-54dca6d95039",
   "metadata": {},
   "outputs": [],
   "source": [
    "# Initial bar chart showing age distribution of those surveyed\n",
    "plt.bar(ages_surveyed.index.values,ages_surveyed.values)\n",
    "\n",
    "# Rotate drug names for readability\n",
    "plt.xticks(rotation=0)\n",
    "\n",
    "# X and Y axis names\n",
    "plt.xlabel(\"Ages of Those Surveyed\")\n",
    "plt.ylabel(\"Total per Age\")\n",
    "plt.show()\n"
   ]
  },
  {
   "cell_type": "code",
   "execution_count": null,
   "id": "3530b75f-1c28-441c-b406-7621becf6744",
   "metadata": {},
   "outputs": [],
   "source": [
    "# Custom age ranges\n",
    "bins = [0, 9, 19, 24, 29, 39, 49, 59, float('inf')]\n",
    "\n",
    "# Labels for the age groups\n",
    "labels = ['0-9', '10-19', '20-24', '25-29', '30-39','40-49','50-59', '60-95']  \n",
    "\n",
    "main_df['Age Groups'] = pd.cut(main_df['1. What is your age?'], bins=bins, labels=labels,include_lowest=True)\n",
    "\n",
    "# Count the number of individuals in each age group\n",
    "age_group_counts = main_df['Age Groups'].value_counts()\n",
    "\n",
    "# List ascending age groups \n",
    "age_group_counts=age_group_counts.sort_index()\n",
    "\n",
    "# Plotting the bar chart\n",
    "age_group_counts.plot(kind='bar')\n",
    "\n",
    "# Adding some personality to the chart\n",
    "plt.xlabel('Age Groups')\n",
    "plt.ylabel('Count')\n",
    "plt.title('Age Group Distribution')\n",
    "plt.xticks(rotation=0)\n",
    "\n",
    "# Display the chart\n",
    "plt.show()"
   ]
  },
  {
   "cell_type": "markdown",
   "id": "eb8c5889-3efe-45ce-b217-33428382461d",
   "metadata": {
    "tags": []
   },
   "source": [
    "## Genders Surveyed"
   ]
  },
  {
   "cell_type": "code",
   "execution_count": null,
   "id": "3dfccee3-7e67-48a9-bb2e-7f3cc22a0167",
   "metadata": {},
   "outputs": [],
   "source": [
    "# Catalogue all genders surveyed\n",
    "genders_surveyed = set(main_df['2. Gender'])\n",
    "print(genders_surveyed)"
   ]
  },
  {
   "cell_type": "code",
   "execution_count": null,
   "id": "3621cd66-ab8c-4545-a3aa-8314d44253be",
   "metadata": {},
   "outputs": [],
   "source": [
    "# Create an \"Others\" group so results fall under \"Male\", \"Female\", or \"Other\"\n",
    "main_df.replace('unsure ','Others', inplace=True)\n",
    "main_df.replace('There are others???','Others', inplace=True)\n",
    "main_df.replace('NB','Others', inplace=True)\n",
    "main_df.replace('Trans','Others', inplace=True)\n",
    "main_df.replace('Non binary ','Others', inplace=True)\n",
    "main_df.replace('Nonbinary ','Others', inplace=True)\n",
    "main_df.replace('Non-binary','Others', inplace=True)\n",
    "\n",
    "genders_surveyed = set(main_df['2. Gender'])\n",
    "print(genders_surveyed)"
   ]
  },
  {
   "cell_type": "code",
   "execution_count": null,
   "id": "1e84ed62-aa42-4561-ab38-c6be5c96bd8e",
   "metadata": {},
   "outputs": [],
   "source": [
    "# Counts for each gender category\n",
    "gender_counts = main_df['2. Gender'].value_counts()\n",
    "gender_counts"
   ]
  },
  {
   "cell_type": "code",
   "execution_count": null,
   "id": "5eedc105-19e9-42a4-86c9-d273718af45f",
   "metadata": {},
   "outputs": [],
   "source": [
    "genders_surveyed = main_df['2. Gender'].value_counts()\n",
    "\n",
    "# Plotting the bar chart\n",
    "plt.bar(gender_counts.index, gender_counts)\n",
    "plt.xlabel('Gender')\n",
    "plt.ylabel('Count')\n",
    "plt.title('Survey Gender Distribution')\n",
    "\n",
    "# Rotating x-axis labels \n",
    "plt.xticks(rotation=45)\n",
    "\n",
    "# Adding percentagess to bar chart\n",
    "total = gender_counts.sum()\n",
    "for i, count in enumerate(gender_counts):\n",
    "    percentage = count / total * 100\n",
    "    plt.text(i, count, f'{percentage:.1f}%', ha='center', va='bottom')\n",
    "\n",
    "plt.show()"
   ]
  },
  {
   "cell_type": "code",
   "execution_count": null,
   "id": "185bf289-702e-4000-a3d6-1cbcd22db522",
   "metadata": {},
   "outputs": [],
   "source": [
    "main_df"
   ]
  },
  {
   "cell_type": "markdown",
   "id": "2376a1ae-625f-4c6c-ada4-84b197d175b7",
   "metadata": {
    "tags": []
   },
   "source": [
    "# Distraction\n",
    "\n",
    "## Is Social Media a distraction from other important tasks?\n",
    "- From the 'Distraction from Social Media chart', we can see the count of people that have ratings of 4 and 5, for how easily they are distracted by Social Media, are over the 100 count mark. Contrarily, people that rated 1 and 2 are under the 90 count mark. The chart shows that a significant amount of people are easily distracted by Social Media. We will factor in age, gender, occupation, average time spent on social media, to determine if there is a an existing correlation. The ratings of 1 -5 in this section represents how easily people are distracted by social media with 1 being not at all to 5 being extremely distracted. We also found the mean distraction rating score to use it as a standard when performing statistical tests on the gender categories.\n",
    "\n",
    "### Does Age, Gender, Average Time Spent on Social Media, and Occupation play a role in how easily one is by social media?\n",
    "- There are no significant differences between different genders in terms of how easily they are distracted by social media. The correlation that exists between the two factors is very weak since it's close to 0. This suggests that gender is not a significant factor that contributes how easily people are distracted by social media.\n",
    "- There is a weak negative correlation between age and distraction rating which suggests that as age increases, the likelihood of being distracted decreases. \n",
    "- There is a moderate correlation that exists between average time spent on social media and how easily an individual is distracted by social media. The 'Distraction Level by Average Time Spent' bar chart shows that there is an increasing trend of higher ratings as more time is spent on social media. \n",
    "- A weak correlation exists between occupation and the distraction level which suggests that depending on the nature of occupation, the level of distraction varies. In this case, University Students tend to experience higher levels of distraction \n",
    "\n",
    "### Is there a correlation between age and the average time spent on social media based off of how easily they are distracted by social media?\n",
    "- There is almost no correlation between age and average time spent on social media for distraction depending on the correlation coefficient = 0.02. There is also an extremely high p value which suggests that the correlation itself is not significant\n",
    "\n",
    "### Is there a correlation between occupation and the average time spent on social media based off of how easily they are distracted by social media?\n",
    "- A weak negative correlation exists between these two factors. Because the correlation coefficient is at -0.1919,here is a slight tendency that people with different occupations tend to spend different times on social media \n",
    "- The heatmap 'Distraction Rating by Occupation and Average Time on Social Media' also shows that different ratings were dependent on the occupation group and average time spent. For instance, university students show a relatively consistency in their distraction ratings across the different average times spent on social media. This conclusion, shows that other groups had higher tendencies of being distracted dependent on the average time spent compared to when we were just testing against occupation and distraction. In the previous case, university students tend to have the most amount distraction without taking average time into factor."
   ]
  },
  {
   "cell_type": "markdown",
   "id": "5a2bec54-ed3a-45fe-b03d-6aa6454da46c",
   "metadata": {
    "tags": []
   },
   "source": [
    "## Plotting the distribution of the population based on rating"
   ]
  },
  {
   "cell_type": "code",
   "execution_count": null,
   "id": "649804dc-9fd5-47c7-8781-06550ff7d6d8",
   "metadata": {},
   "outputs": [],
   "source": [
    "# Create a dataframe that represents how often people get distracted by Social Media\n",
    "distraction_occurrence = main_df['10. How often do you get distracted by Social media when you are busy doing something?']\n",
    "ratings = ['1', '2', '3', '4', '5']\n",
    "\n",
    "# Display the information via bar chart\n",
    "dist_count = distraction_occurrence.value_counts().sort_index()\n",
    "plt.bar(ratings, dist_count)\n",
    "plt.title('Distraction from Social Media')\n",
    "plt.xlabel('Rating')\n",
    "plt.ylabel('Count')\n",
    "plt.savefig('output_data/distraction/distraction_demographics')\n",
    "plt.show"
   ]
  },
  {
   "cell_type": "code",
   "execution_count": null,
   "id": "e6809063-918b-41a0-a29d-3ea52c420885",
   "metadata": {},
   "outputs": [],
   "source": [
    "# Find the standard mean of the dataset for distraction level:\n",
    "mean_distraction = main_df['10. How often do you get distracted by Social media when you are busy doing something?'].mean()\n",
    "mean_distraction"
   ]
  },
  {
   "cell_type": "markdown",
   "id": "c561feac-1af4-4b1a-975f-3856ac8ddaf9",
   "metadata": {
    "tags": []
   },
   "source": [
    "## Age \n",
    "\n",
    "- One of the findings we observed when performing statistical testing on Age and Distraction Ratings is that there is a weak negative correlation between age and distraction (-0.2192). From the 'Distraction Ratings by Age Group' line chart, we observed the patterns of each rating as age increases. In Age Groups 10-19 and 25-29 where the population was approximately similar, the results of the ratings were vastly different. People in the older age group of 25-29 were more likely to be distracted than those of belonging 10-19. As the age increases, we see that the distraction rating that represents the most amount of response for ratings decrease. Age groups 30-39 had the most amount of Distraction Ratings 2 compared to other distraction ratings and Age Groups 40-49 and 50-59 had the most ratings being at 1. This supports the  negative correlation that possibly as the age increases, the likelihood of being distracted also decreases. However we do want to take note that it is a weak correlation. \n",
    "- Notes: \n",
    "     - The distribution among the dataset shows that a significant portion of the population are made up by people in their early 20s, specifically 58% are represented by people from ages 20-24. Since the data is skewed towards this particular age group, further testing and analysis needs to be conducted to support the findings. "
   ]
  },
  {
   "cell_type": "code",
   "execution_count": null,
   "id": "11ffe216-6364-4d5b-9572-3a0418e8f4fe",
   "metadata": {},
   "outputs": [],
   "source": [
    "# Create age dataframe: Q10\n",
    "age_dist_group = main_df.groupby(['Age Groups', '10. How often do you get distracted by Social media when you are busy doing something?'])\n",
    "age_dist_count = age_dist_group.size().reset_index(name='Rating Count per Age Group')\n",
    "age_dist_count.head()"
   ]
  },
  {
   "cell_type": "code",
   "execution_count": null,
   "id": "f95f27b3-1e80-4dde-b4a9-3198f2f49b27",
   "metadata": {},
   "outputs": [],
   "source": [
    "# Show info on pivot table for Q10\n",
    "age_dist_pt = age_dist_count.pivot(index='Age Groups', columns='10. How often do you get distracted by Social media when you are busy doing something?', values='Rating Count per Age Group')\n",
    "\n",
    "# Calculate Total \n",
    "age_dist_pt['Total'] = age_dist_pt.sum(axis=1)\n",
    "age_dist_pt.loc['Total'] = age_dist_pt.sum(axis=0)\n",
    "age_dist_pt"
   ]
  },
  {
   "cell_type": "code",
   "execution_count": null,
   "id": "97781bd9-fcb3-4285-ab77-c65f0ebd3cdc",
   "metadata": {},
   "outputs": [],
   "source": [
    "# Drop total ratings from Pivot Table before plotting\n",
    "age_dist_pt = age_dist_pt.drop('Total', axis=0)\n",
    "age_dist_pt = age_dist_pt.drop('Total', axis=1)"
   ]
  },
  {
   "cell_type": "code",
   "execution_count": null,
   "id": "443d57a8-59a3-4540-af67-2f55c1e59f0f",
   "metadata": {},
   "outputs": [],
   "source": [
    "# Plot Age Distribution Ratings for Distraction\n",
    "age_dist_pt.plot(kind='bar')\n",
    "\n",
    "# Set axis labels and title\n",
    "plt.xlabel('Age Group')\n",
    "plt.ylabel('Response')\n",
    "plt.title('Distraction Level by Age Group')\n",
    "\n",
    "# Show the legend\n",
    "plt.legend(title = 'Rating', loc='upper right', bbox_to_anchor=(1, 1))\n",
    "\n",
    "# Save output\n",
    "plt.savefig('output_data/distraction/Distraction_Age_Distribution')\n",
    "\n",
    "# Show the chart\n",
    "plt.show()"
   ]
  },
  {
   "cell_type": "code",
   "execution_count": null,
   "id": "71acdee0-f166-4ace-ba19-8e4a6c5d9f67",
   "metadata": {},
   "outputs": [],
   "source": [
    "# Create a chart to show existing trends\n",
    "# Get the age groups\n",
    "age_groups = age_dist_pt.index.tolist()\n",
    "\n",
    "# Set the x-axis values\n",
    "x_age = range(len(age_groups))\n",
    "\n",
    "# Plot the trend chart\n",
    "plt.figure(figsize=(10, 6))\n",
    "for rating in age_dist_pt.columns:\n",
    "    plt.plot(x_age, age_dist_pt[rating], marker='o', label=f'Distraction Rating {rating}')\n",
    "\n",
    "# Set x-axis labels\n",
    "plt.xticks(x_age, age_groups)\n",
    "\n",
    "# Set axis labels and title\n",
    "plt.xlabel('Age Groups')\n",
    "plt.ylabel('Rating Count')\n",
    "plt.title('Distraction Ratings by Age Group')\n",
    "\n",
    "# Show the legend\n",
    "plt.legend()\n",
    "\n",
    "# Save output\n",
    "plt.savefig('output_data/distraction/Distraction_Age_Trend')\n",
    "\n",
    "# Show the chart\n",
    "plt.show()"
   ]
  },
  {
   "cell_type": "code",
   "execution_count": null,
   "id": "a547f1d6-d2c4-432f-9e52-e2c549fd86ea",
   "metadata": {},
   "outputs": [],
   "source": [
    "# Find correlation coefficient\n",
    "distraction_ratings = age_dist_pt.columns\n",
    "age_groups = ['0-9', '10-19', '20-24', '25-29', '30-39', '40-49', '50-59', '60-95']\n",
    "\n",
    "# Create empty lists to store the data\n",
    "age_x_values = []\n",
    "age_y_values = []\n",
    "\n",
    "# Extract information from pivot table\n",
    "for i, age_group in enumerate(age_groups):\n",
    "    for rating in distraction_ratings:\n",
    "        count = age_dist_pt.loc[age_group, rating]\n",
    "        age_x_values.extend([i] * count)  # Assign numerical values to age groups\n",
    "        age_y_values.extend([float(rating)] * count)\n",
    "\n",
    "# Calculate the correlation coefficient\n",
    "correlation_coefficient, p_value = stats.pearsonr(age_x_values, age_y_values)\n",
    "\n",
    "# Print the correlation coefficient\n",
    "print(f\"Pearson's correlation coefficient: {correlation_coefficient:.4f}\")\n",
    "print(f\"P-value: {p_value:.4f}\")"
   ]
  },
  {
   "cell_type": "markdown",
   "id": "fdf02d22-ca1e-4c50-8565-a538017ffac2",
   "metadata": {},
   "source": [
    "## Gender \n",
    "\n",
    "- From the pie charts, we can see that the distribution of ratings based on gender categories are not too different from each other. Specifically, the makeup of the ratings between both male and female groups are extremely similar from one another with rating 1 being the smallest. The only difference between the two charts is that the largest makeup for females was rating 5 and for male it was rating 4. The correlation coefficient (-0.0685) showed that there was an extremely weak negative correlation between gender and distraction ratings. As the p-value was 0.1379, it supports that the correlation is not statistically significant. We also performed statistical testing that compared the results of female and male distraction ratings. The p-value is 0.0690 indicates that there is no significant difference between the two groups. This supports the visualization provided by the pie charts\n",
    "\n",
    "- Notes:\n",
    "    - As the \"Others\" category (1.5%) was disproportional compared to the representation of people that made up of Female and Male categories, it was excluded from being tested against them. Therefore the t test was only performed on the female and male groups comparing the two. "
   ]
  },
  {
   "cell_type": "code",
   "execution_count": null,
   "id": "ad0843f4-d1c9-404b-8ba8-cf8e60c61804",
   "metadata": {},
   "outputs": [],
   "source": [
    "# Create dataframe for gender - Q10 \n",
    "gender_dist_group = main_df.groupby(['2. Gender', '10. How often do you get distracted by Social media when you are busy doing something?'])\n",
    "gender_dist_count = gender_dist_group.size().reset_index(name='Rating Count per Gender')\n",
    "gender_dist_count.head()"
   ]
  },
  {
   "cell_type": "code",
   "execution_count": null,
   "id": "688c6f92-afb1-48d5-8735-e024769819b2",
   "metadata": {},
   "outputs": [],
   "source": [
    "# Show info on pivot table for Q10\n",
    "gender_dist_pt = gender_dist_count.pivot(index='2. Gender', columns='10. How often do you get distracted by Social media when you are busy doing something?', values='Rating Count per Gender')\n",
    "\n",
    "# Calculate Total \n",
    "gender_dist_pt['Total'] = gender_dist_pt.sum(axis=1)\n",
    "gender_dist_pt.loc['Total'] = gender_dist_pt.sum(axis=0)\n",
    "gender_dist_pt"
   ]
  },
  {
   "cell_type": "code",
   "execution_count": null,
   "id": "762559fe-42b2-4cfc-af97-cb79e487f74b",
   "metadata": {},
   "outputs": [],
   "source": [
    "# Drop total ratings from Pivot Table before plotting\n",
    "gender_dist_pt = gender_dist_pt.drop('Total', axis=0)\n",
    "gender_dist_pt = gender_dist_pt.drop('Total', axis=1)"
   ]
  },
  {
   "cell_type": "code",
   "execution_count": null,
   "id": "e3881d09-5968-4cef-b416-d6d8d6c18af5",
   "metadata": {},
   "outputs": [],
   "source": [
    "# Get how many gender categories there are\n",
    "gender_count = len(gender_dist_pt)\n",
    "\n",
    "# Create separate pie charts for each gender\n",
    "for gender in gender_dist_pt.index:\n",
    "    data = gender_dist_pt.loc[gender]\n",
    "    plt.figure()\n",
    "    plt.pie(data, labels=data.index, autopct='%1.1f%%', startangle=90)\n",
    "    plt.title(gender)\n",
    "    \n",
    "plt.savefig('output_data/distraction/Distraction_Gender_Distribution')\n",
    "plt.tight_layout()\n",
    "plt.show()"
   ]
  },
  {
   "cell_type": "code",
   "execution_count": null,
   "id": "6519110a-0055-4e00-9769-d9814a7e8b0a",
   "metadata": {},
   "outputs": [],
   "source": [
    "# Find correlation coefficient between ratings and gender differences\n",
    "distraction_ratings = gender_dist_pt.columns\n",
    "genders = gender_dist_pt.index\n",
    "\n",
    "# Create empty lists to store the data\n",
    "gender_x_values = []\n",
    "gender_y_values = []\n",
    "\n",
    "# Extract information from pivot table\n",
    "for i, gender in enumerate(genders):\n",
    "    for rating in distraction_ratings:\n",
    "        count = gender_dist_pt.loc[gender, rating]\n",
    "        gender_x_values.extend([i] * count)  # Assign numerical values to genders\n",
    "        gender_y_values.extend([float(rating)] * count)\n",
    "\n",
    "# Calculate the correlation coefficient\n",
    "correlation_coefficient, p_value = stats.pearsonr(gender_x_values, gender_y_values)\n",
    "\n",
    "# Print the correlation coefficient\n",
    "print(f\"Pearson's correlation coefficient: {correlation_coefficient:.4f}\")\n",
    "print(f\"P-value: {p_value:.4f}\")"
   ]
  },
  {
   "cell_type": "code",
   "execution_count": null,
   "id": "2193f78c-2099-4c62-a8a7-b319cc4ada57",
   "metadata": {},
   "outputs": [],
   "source": [
    "# Perform a one-sample t-test for each gender category\n",
    "for gender in gender_dist_pt.index:\n",
    "    ratings = gender_dist_pt.loc[gender].values[1:]  # Exclude the first column (gender category)\n",
    "    t_statistic, p_value = stats.ttest_1samp(ratings, mean_distraction)\n",
    "    print(f\"One-sample t-test for {gender}:\")\n",
    "    print(f\"T-statistic: {t_statistic:.4f}\")\n",
    "    print(f\"P-value: {p_value:.4f}\")\n",
    "    print()"
   ]
  },
  {
   "cell_type": "code",
   "execution_count": null,
   "id": "ab2e063d-89cc-4a6e-a1ef-b8aceb19b1d0",
   "metadata": {},
   "outputs": [],
   "source": [
    "# Extract the distraction ratings for Female and Male from the pivot table\n",
    "ratings_female = gender_dist_pt.loc['Female'][1:6]\n",
    "ratings_male = gender_dist_pt.loc['Male'][1:6]\n",
    "\n",
    "# Run the two-sample t-test\n",
    "t_statistic, p_value = stats.ttest_ind(ratings_female, ratings_male, equal_var=False)\n",
    "\n",
    "print(\"Two-sample t-test results:\")\n",
    "print(f\"T-statistic: {t_statistic:.4f}\")\n",
    "print(f\"P-value: {p_value:.4f}\")"
   ]
  },
  {
   "cell_type": "markdown",
   "id": "b7374578-043b-47c6-8919-92a60977af74",
   "metadata": {
    "tags": []
   },
   "source": [
    "## Average Time Spent on Social Media\n",
    "\n",
    "- The distribution across the 3 categories of average time spent on social media (0-3 hours, 3-5 hours, and 5+ hours) is more proportionate compared to the previous factors studied. The correlation coefficient at 0.29 suggests that there is a moderate positive correlation between average time spent and how easily distracted people are by social media. This suggests that there is some sort of tendency that people who spends more time on social media will experience higher levels of distraction. This is supported by the 'Distraction Level by Average Time Spent' chart, where people who spent 5+ hours on social media had the most ratings for being extremely distracted (5) where as people who spent 0-3 hours on social media had a relative uniformity across all ratings. From one group of average time spent to the next, there is an increasing trend of higher ratings as more time is spent on social media.\n",
    "- There are various factors that could play a role in the relationship between how much time one spends on social media and how easily they are distracted by it. Eenvironmental and individual differences are factors that could play a role in how easily one becomes distracted by social media. Therefore, more research needs to be conducted to have a comprehensive understanding of the relationship between average time spent on social media and the level of distraction one is influenced by social media"
   ]
  },
  {
   "cell_type": "code",
   "execution_count": null,
   "id": "5b2a1680-9c47-4a91-87de-202d96649fbc",
   "metadata": {},
   "outputs": [],
   "source": [
    "# Create dataframe for time - Q10 \n",
    "time_dist_group = main_df.groupby(['Average Time on Social Media', '10. How often do you get distracted by Social media when you are busy doing something?'])\n",
    "time_dist_count = time_dist_group.size().reset_index(name='Rating Count per Avg Time')\n",
    "time_dist_count.head()"
   ]
  },
  {
   "cell_type": "code",
   "execution_count": null,
   "id": "93a2afc6-0b76-48ff-958b-1a54d17dd03e",
   "metadata": {},
   "outputs": [],
   "source": [
    "# Show info on pivot table for Q10\n",
    "time_dist_pt = time_dist_count.pivot(index='Average Time on Social Media', columns='10. How often do you get distracted by Social media when you are busy doing something?', values='Rating Count per Avg Time')\n",
    "\n",
    "# Calculate Total \n",
    "time_dist_pt['Total'] = time_dist_pt.sum(axis=1)\n",
    "time_dist_pt.loc['Total'] = time_dist_pt.sum(axis=0)\n",
    "time_dist_pt"
   ]
  },
  {
   "cell_type": "code",
   "execution_count": null,
   "id": "02696dff-d84b-4e79-904a-ef94be3f6c58",
   "metadata": {},
   "outputs": [],
   "source": [
    "# Drop total ratings from Pivot Table before plotting\n",
    "time_dist_pt = time_dist_pt.drop('Total', axis=0)\n",
    "time_dist_pt = time_dist_pt.drop('Total', axis=1)"
   ]
  },
  {
   "cell_type": "code",
   "execution_count": null,
   "id": "81274042-c465-486b-8930-bb0f0ea0806e",
   "metadata": {},
   "outputs": [],
   "source": [
    "# Plot Time Distribution Ratings for Distraction\n",
    "time_dist_pt.plot(kind='bar')\n",
    "\n",
    "# Set axis labels and title\n",
    "plt.xlabel('Avg Time')\n",
    "plt.ylabel('Response')\n",
    "plt.title('Distraction Level by Average Time Spent')\n",
    "\n",
    "# Plot the legend\n",
    "plt.legend(title = 'Rating', loc='upper left', bbox_to_anchor=(1, 1))\n",
    "\n",
    "# Save the figure\n",
    "plt.savefig('output_data/distraction/Distraction_Average_Time_Spent')\n"
   ]
  },
  {
   "cell_type": "code",
   "execution_count": null,
   "id": "3e43ab91-5e6f-4fed-9cf2-436f4ffe1e87",
   "metadata": {},
   "outputs": [],
   "source": [
    "# Find correlation coefficient between average time on social media and distraction rating\n",
    "distraction_ratings = time_dist_pt.columns\n",
    "average_times = time_dist_pt.index\n",
    "\n",
    "# Create empty lists to store the data\n",
    "time_x_values = []\n",
    "time_y_values = []\n",
    "\n",
    "# Extract information from pivot table\n",
    "for i, time_category in enumerate(average_times):\n",
    "    for rating in distraction_ratings:\n",
    "        count = time_dist_pt.loc[time_category, rating]\n",
    "        time_x_values.extend([i] * count)  # Assign numerical values to average time categories\n",
    "        time_y_values.extend([float(rating)] * count)\n",
    "\n",
    "# Calculate the correlation coefficient\n",
    "correlation_coefficient, p_value = stats.pearsonr(time_x_values, time_y_values)\n",
    "\n",
    "# Print the correlation coefficient\n",
    "print(f\"Pearson's correlation coefficient: {correlation_coefficient:.4f}\")"
   ]
  },
  {
   "cell_type": "markdown",
   "id": "1fd0827c-7ef2-49b2-9fe2-b38bda263481",
   "metadata": {},
   "source": [
    "## Occupation\n",
    "\n",
    "- There is a weak positive correlation between the occupation and distraction at 0.2233. From the 'Distraction Level by Occupation' chart, university students are more prone to experiencing higher levels of distraction. as opposed to salaried workers, school students, and retired people. In the case of salaried workers, distraction levels of 4 and 5 were lower than the other 3 distraction ratings compared to students. This suggests that maybe due to the nature of their work environment, time availability, and work/stress levels, salaried workers could potentially have more job responsibilities that require less time for them to go on social media. \n",
    "- Because University students overrepresent the data, the statistical findings could be skewed. Therefore, additional testing needs to be conducted to understand the nature of occupation. For instance, salaried workers could also be separated into different categories depending on the type of work they do. This would provide further analysis on how occupation plays a role in distraction levels by social media. However, the given dataset doesn't have that information."
   ]
  },
  {
   "cell_type": "code",
   "execution_count": null,
   "id": "9d76b259-3e43-477d-b879-b9ec3da61a3d",
   "metadata": {},
   "outputs": [],
   "source": [
    "# Create dataframe for occupation - Q10 \n",
    "occupation_dist_group = main_df.groupby(['4. Occupation Status', '10. How often do you get distracted by Social media when you are busy doing something?'])\n",
    "occupation_dist_count = occupation_dist_group.size().reset_index(name='Rating Count per Occupation')\n",
    "occupation_dist_count.head()"
   ]
  },
  {
   "cell_type": "code",
   "execution_count": null,
   "id": "c9619084-ba6f-40a8-8c3e-1131b964d6d8",
   "metadata": {},
   "outputs": [],
   "source": [
    "# Show info on pivot table for Q10\n",
    "occupation_dist_pt = occupation_dist_count.pivot(index='4. Occupation Status', columns='10. How often do you get distracted by Social media when you are busy doing something?', values='Rating Count per Occupation')\n",
    "\n",
    "# Calculate Total \n",
    "occupation_dist_pt['Total'] = occupation_dist_pt.sum(axis=1)\n",
    "occupation_dist_pt.loc['Total'] = occupation_dist_pt.sum(axis=0)\n",
    "occupation_dist_pt"
   ]
  },
  {
   "cell_type": "code",
   "execution_count": null,
   "id": "a8809975-cf50-4f24-a874-dd627fafd53e",
   "metadata": {},
   "outputs": [],
   "source": [
    "# Drop total ratings from Pivot Table before plotting\n",
    "occupation_dist_pt = occupation_dist_pt.drop('Total', axis=0)\n",
    "occupation_dist_pt = occupation_dist_pt.drop('Total', axis=1)"
   ]
  },
  {
   "cell_type": "code",
   "execution_count": null,
   "id": "55057418-17a9-40b6-81fa-efdd3fd73294",
   "metadata": {},
   "outputs": [],
   "source": [
    "# Plot Distraction Rating by Occupation\n",
    "occupation_dist_pt.plot(kind='bar')\n",
    "\n",
    "# Set axis labels and title\n",
    "plt.xlabel('Occupation')\n",
    "plt.ylabel('Response')\n",
    "plt.title('Distraction Level by Occupation')\n",
    "\n",
    "# Plot legend\n",
    "plt.legend(title= 'Rating', loc='upper left', bbox_to_anchor=(1, 1))\n",
    "\n",
    "# Save figure\n",
    "plt.savefig('output_data/distraction/distraction_by_occupation')\n",
    "\n",
    "# Show plot\n",
    "plt.show()"
   ]
  },
  {
   "cell_type": "code",
   "execution_count": null,
   "id": "a1d83978-625c-4bd6-a435-389065e277ac",
   "metadata": {},
   "outputs": [],
   "source": [
    "# Find correlation coefficient between occupation and distraction rating\n",
    "distraction_ratings = occupation_dist_pt.columns\n",
    "occupations = occupation_dist_pt.index\n",
    "\n",
    "# Create empty lists to store the data\n",
    "occupation_x_values = []\n",
    "occupation_y_values = []\n",
    "\n",
    "# Extract information from pivot table\n",
    "for i, occupation in enumerate(occupations):\n",
    "    for rating in distraction_ratings:\n",
    "        count = occupation_dist_pt.loc[occupation, rating]\n",
    "        occupation_x_values.extend([i] * count)  # Assign numerical values to occupations\n",
    "        occupation_y_values.extend([float(rating)] * count)\n",
    "\n",
    "# Calculate the correlation coefficient\n",
    "correlation_coefficient, p_value = stats.pearsonr(occupation_x_values, occupation_y_values)\n",
    "\n",
    "# Print the correlation coefficient\n",
    "print(f\"Pearson's correlation coefficient: {correlation_coefficient:.4f}\")"
   ]
  },
  {
   "cell_type": "markdown",
   "id": "67de0f6b-66e9-4d93-a0ec-9315e8217fc0",
   "metadata": {},
   "source": [
    "## Age Groups and Average Times on Social Media\n",
    "\n",
    "- We can assume that there is almost no correlation between age and average time spent on social media for distraction depending on the p value being at 0.8406 and the correlation coefficient at 0.02. \n",
    "\n",
    "- Based on the heatmap 'Distraction Rating by Age Group and Average Time on Social Media', we can observe that the people from ages 40-49 and 60-95 have the highest average distraction ratings as they spend 5+ hours on social media. In comparison, the youngest age group (10-19) shows lower average distraction ratings across all time averages spent on social media. Because age group 50-59 have missing values(NaN) in the 5+ hours category, there is a lack of information to compare this data set with other age groups."
   ]
  },
  {
   "cell_type": "code",
   "execution_count": null,
   "id": "ba3f5860-29ae-43e4-b1a5-23ef530f3a13",
   "metadata": {},
   "outputs": [],
   "source": [
    "main_df_copy = main_df.copy()\n",
    "main_df_copy.loc[:, 'Average Time on Social Media'] = main_df_copy['Average Time on Social Media'].astype(str)\n",
    "age_avg_time_dist = main_df_copy.groupby(['Age Groups', 'Average Time on Social Media'])['10. How often do you get distracted by Social media when you are busy doing something?'].mean().reset_index()\n",
    "age_avg_time_dist"
   ]
  },
  {
   "cell_type": "code",
   "execution_count": null,
   "id": "533015c7-0df7-46ed-b9f8-ce2521479fc8",
   "metadata": {},
   "outputs": [],
   "source": [
    "# Show info on pivot table for Q10\n",
    "age_time_pt = main_df_copy.pivot_table(index='Age Groups', columns='Average Time on Social Media', values='10. How often do you get distracted by Social media when you are busy doing something?', aggfunc='mean')\n",
    "age_time_pt = age_time_pt.sort_index()\n",
    "\n",
    "# Calculate Total Mean\n",
    "age_time_pt['Total Average'] = age_time_pt.mean(axis=1)\n",
    "age_time_pt.loc['Total Average'] = age_time_pt.mean(axis=0)\n",
    "age_time_pt"
   ]
  },
  {
   "cell_type": "code",
   "execution_count": null,
   "id": "d80c4f3a-1b06-4a73-b309-a43caaa9ab71",
   "metadata": {},
   "outputs": [],
   "source": [
    "# Drop total ratings from Pivot Table before plotting\n",
    "age_time_pt = age_time_pt.drop('Total Average', axis=0)\n",
    "age_time_pt = age_time_pt.drop('Total Average', axis=1)"
   ]
  },
  {
   "cell_type": "code",
   "execution_count": null,
   "id": "95272542-e663-4b67-ba58-c3696c966447",
   "metadata": {},
   "outputs": [],
   "source": [
    "# Sort by age order\n",
    "age_order = ['60-95','50-59', '40-49', '30-39', '25-29','20-24', '10-19', '<10' ]\n",
    "age_time_pt = age_time_pt.reindex(age_order)\n",
    "\n",
    "# Get the tick labels for x-axis and y-axis\n",
    "x_ticks = age_time_pt.columns\n",
    "y_ticks = age_time_pt.index\n",
    "\n",
    "# Create the heatmap\n",
    "heatmap= age_time_pt.values\n",
    "\n",
    "plt.figure(figsize=(10, 6))\n",
    "plt.imshow(heatmap, cmap='cool')\n",
    "cbar = plt.colorbar()\n",
    "cbar.set_label('Level of Distraction')\n",
    "\n",
    "# Set ticks\n",
    "plt.xticks(np.arange(len(x_ticks)), x_ticks)\n",
    "plt.yticks(np.arange(len(y_ticks)), y_ticks)\n",
    "\n",
    "plt.xticks(rotation=90)\n",
    "\n",
    "# Set axis labels and title\n",
    "plt.xlabel('Average Time on Social Media')\n",
    "plt.ylabel('Age Group')\n",
    "plt.title('Distraction Rating by Age Group and Average Time on Social Media')\n",
    "\n",
    "#Save figure\n",
    "plt.savefig('output_data/distraction/Age_Time_Distraction_Heatmap')\n",
    "\n",
    "plt.show()"
   ]
  },
  {
   "cell_type": "code",
   "execution_count": null,
   "id": "0caae444-a45d-4fec-8cc7-3c98403afb36",
   "metadata": {},
   "outputs": [],
   "source": [
    "# Extract information from pivot table\n",
    "age_groups = age_time_pt.index.tolist()\n",
    "average_times = age_time_pt.columns.tolist()\n",
    "\n",
    "age_x_values = []\n",
    "age_y_values = []\n",
    "\n",
    "for i, age_group in enumerate(age_groups):\n",
    "    for j, average_time in enumerate(average_times):\n",
    "        rating = age_time_pt.loc[age_group, average_time]\n",
    "        if pd.notnull(rating):  # Check for NaN values\n",
    "            rating_int = int(rating)  # Convert the rating to an integer\n",
    "            age_x_values.extend([i] * rating_int)  # Assign numerical values to age groups\n",
    "            age_y_values.extend([j] * rating_int)  # Assign numerical values to average time\n",
    "\n",
    "# Calculate the correlation coefficient\n",
    "correlation_coefficient, p_value = stats.pearsonr(age_x_values, age_y_values)\n",
    "\n",
    "# Print the correlation coefficient\n",
    "print(f\"Pearson's correlation coefficient between Average Time on Social Media and Age Groups: {correlation_coefficient:.4f}\")\n",
    "print(f\"P-value: {p_value:.4f}\")"
   ]
  },
  {
   "cell_type": "markdown",
   "id": "060b3d88-39b9-4f57-8119-52848fb0b081",
   "metadata": {},
   "source": [
    "## Occupation and Average Time on Social Media\n",
    "\n",
    "- There is a weak negative correlation between occupation and average time spent on social media based on distraction ratings. Since the correlation coefficient is at -0.1919, there is a slight tendency that people with different occupations tend to spend different times on social media. Because the p-value is at 0.2623 we fail to reject the null hypothesis that there is no correlation between the Average Time on Social Media and the Occupation. However, further testing needs to be conducted to determine different occupation impact the average time spent on social media and how distracted they are from social media based on these two factors.\n",
    "- The heatmap 'Distraction Rating by Occupation and Average Time on Social Media' portrays that retired workers have a tendency to spend more time on social media, which suggest they are more likely to be distractedby social media. However given that the population that is represented by retired workers is at 1.7%, there is too little data to suggest the accuracy of this result. On the other hand, school students and salaried workers have higher distraction ratings as they spend more time on social media. In comparison, university students show a relatively consistent distraction ratings across the different average times spent on social media. "
   ]
  },
  {
   "cell_type": "code",
   "execution_count": null,
   "id": "96e5b09a-abe3-4f21-9d74-15482c1148c9",
   "metadata": {},
   "outputs": [],
   "source": [
    "# Create data frame\n",
    "occ_avg_time_dist = main_df_copy.groupby(['4. Occupation Status', 'Average Time on Social Media'])['10. How often do you get distracted by Social media when you are busy doing something?'].mean().reset_index()\n",
    "occ_avg_time_dist"
   ]
  },
  {
   "cell_type": "code",
   "execution_count": null,
   "id": "4a71f7e9-a22a-412b-96c5-0f6102909cee",
   "metadata": {},
   "outputs": [],
   "source": [
    "# Show info on pivot table for Q10\n",
    "occ_time_pt = main_df.pivot_table(index='4. Occupation Status', columns='Average Time on Social Media', values='10. How often do you get distracted by Social media when you are busy doing something?', aggfunc='mean')\n",
    "occ_time_pt = occ_time_pt.sort_index()\n",
    "\n",
    "# Calculate Total Mean\n",
    "occ_time_pt['Total Average'] = occ_time_pt.mean(axis=1)\n",
    "occ_time_pt.loc['Total Average'] = occ_time_pt.mean(axis=0)\n",
    "occ_time_pt"
   ]
  },
  {
   "cell_type": "code",
   "execution_count": null,
   "id": "bab60073-f8e2-432e-859f-422c9b649575",
   "metadata": {},
   "outputs": [],
   "source": [
    "# Drop total ratings from Pivot Table before plotting\n",
    "occ_time_pt = occ_time_pt.drop('Total Average', axis=0)\n",
    "occ_time_pt = occ_time_pt.drop('Total Average', axis=1)"
   ]
  },
  {
   "cell_type": "code",
   "execution_count": null,
   "id": "f8f33c94-9adc-4c5b-96b4-d1a5e2ead38b",
   "metadata": {},
   "outputs": [],
   "source": [
    "# Sort the index\n",
    "occ_time_pt = occ_time_pt.sort_index()\n",
    "\n",
    "# Get the tick labels for x-axis and y-axis\n",
    "x_ticks = occ_time_pt.columns\n",
    "y_ticks = occ_time_pt.index\n",
    "\n",
    "# Create the heatmap\n",
    "plt.figure(figsize=(10, 6))\n",
    "plt.imshow(occ_time_pt, cmap='cool', aspect='auto')\n",
    "cbar = plt.colorbar()\n",
    "cbar.set_label('Distraction Rating')\n",
    "\n",
    "# Set ticks\n",
    "plt.xticks(range(len(x_ticks)), x_ticks, rotation=90)\n",
    "plt.yticks(range(len(y_ticks)), y_ticks)\n",
    "\n",
    "# Set axis labels and title\n",
    "plt.xlabel('Average Time on Social Media')\n",
    "plt.ylabel('Occupation')\n",
    "plt.title('Distraction Rating by Occupation and Average Time on Social Media')\n",
    "\n",
    "# Save fig\n",
    "plt.savefig('output_data/distraction/occupation_time_distraction')\n",
    "\n",
    "plt.show()"
   ]
  },
  {
   "cell_type": "code",
   "execution_count": null,
   "id": "1ab9de95-fe0f-44cd-b152-430a26d4fff4",
   "metadata": {},
   "outputs": [],
   "source": [
    "# Extract information from pivot table\n",
    "occupations = occ_time_pt.index.tolist()\n",
    "average_times = occ_time_pt.columns.tolist()\n",
    "\n",
    "occupation_x_values = []\n",
    "occupation_y_values = []\n",
    "\n",
    "for i, occupation in enumerate(occupations):\n",
    "    for j, average_time in enumerate(average_times):\n",
    "        rating = occ_time_pt.loc[occupation, average_time]\n",
    "        if pd.notnull(rating):  # Check for NaN values\n",
    "            rating_int = int(rating)  # Convert the rating to an integer\n",
    "            occupation_x_values.extend([i] * rating_int)  # Assign numerical values to occupations\n",
    "            occupation_y_values.extend([j] * rating_int)  # Assign numerical values to average time\n",
    "\n",
    "# Calculate the correlation coefficient\n",
    "correlation_coefficient, p_value = stats.pearsonr(occupation_x_values, occupation_y_values)\n",
    "\n",
    "# Print the correlation coefficient and p-value\n",
    "print(f\"Pearson's correlation coefficient between Average Time on Social Media and Occupation: {correlation_coefficient:.4f}\")\n",
    "print(f\"P-value: {p_value:.4f}\")"
   ]
  },
  {
   "cell_type": "markdown",
   "id": "c9bffccd-e78f-40b6-9c82-419093b20b0f",
   "metadata": {
    "tags": []
   },
   "source": [
    "# Collection of App Usage vs Mental Health\n",
    "\n",
    "## Does a specific SM platform or collection of platforms lead to more issues than others? \n",
    "\n",
    "- The most common Social Media Platform among the surveyed data were Facebook, Instagram, YouTube.\n",
    "- Facebook and Instagram can be associated for comparison that may be leading to negative emotions.\n",
    "- We do not have specific data regarding how a distinct platform makes the recipient feel. Deducing the data to one recorded platform from the top 3 did not lead to enough information for a conclusion.\n",
    "- Users in this sample tend to use more than one platform along with the top three most popular recorded.\n",
    "\n",
    "## Whether a collection of app platform usage leads to more of an impact on mental health?\n",
    "- The distribution among the dataset had on average 3-5 social media platforms. More specifically on average 4 platforms.\n",
    "- The Average Total Frequency Score saw an increase of 12% from the 1-2 social media platform group to 3-5 group which is a minor increase. Which may suggest multiple platforms can lead to more of an impact on attention throughout the day when engaging in multiple platforms. \n",
    "- The 1-2 Social Media Platform group also had on average an hour less spent on social media than the 3-5 and 6+ platform groups."
   ]
  },
  {
   "cell_type": "code",
   "execution_count": null,
   "id": "0112fbf7-3c52-4636-94f6-bb4e920b501c",
   "metadata": {},
   "outputs": [],
   "source": [
    "#Remove Timestamp; do not really need\n",
    "socialApps_df = main_df.iloc[:, 1:]\n",
    "socialApps_df.head()"
   ]
  },
  {
   "cell_type": "code",
   "execution_count": null,
   "id": "8f3b6010-9b4f-48a5-9911-98783e5d87fa",
   "metadata": {},
   "outputs": [],
   "source": [
    "#Get Number of Social Apps into a List\n",
    "appsList = socialApps_df.iloc[:, 6]\n",
    "\n",
    "#Creating a variable to store # amount of apps\n",
    "numberOfApps = []\n",
    "\n",
    "#Creating a variable to store list of the split result string list\n",
    "listOfApps = []\n",
    "\n",
    "for app in appsList:\n",
    "    listOfApps.append(app.split(\";\"))"
   ]
  },
  {
   "cell_type": "code",
   "execution_count": null,
   "id": "5f9e3156-4701-4bd7-bc34-467d3f6e828c",
   "metadata": {},
   "outputs": [],
   "source": [
    "#Add Number of Apps to DF\n",
    "\n",
    "listOfNumberApps = [len(x) for x in listOfApps]\n",
    "\n",
    "#Add to social apps df\n",
    "socialApps_df['Number of Apps'] = listOfNumberApps"
   ]
  },
  {
   "cell_type": "code",
   "execution_count": null,
   "id": "de296e5f-9e8e-4d81-b360-2ec59357ac84",
   "metadata": {},
   "outputs": [],
   "source": [
    "#Rename columns to respective type of question.\n",
    "socialApps_df.rename(columns = {'9. How often do you find yourself using Social media without a specific purpose?':'ADHD Q1',\n",
    "                       '10. How often do you get distracted by Social media when you are busy doing something?':'ADHD Q2',\n",
    "                       \"11. Do you feel restless if you haven't used Social media in a while?\":'Anxiety Q1',\n",
    "                       '12. On a scale of 1 to 5, how easily distracted are you?':'ADHD Q3',\n",
    "                       '13. On a scale of 1 to 5, how much are you bothered by worries?':'Anxiety Q2',\n",
    "                       '14. Do you find it difficult to concentrate on things?':'ADHD Q4',\n",
    "                       '15. On a scale of 1-5, how often do you compare yourself to other successful people through the use of social media?':'Self Esteem Q1',\n",
    "                       '17. How often do you look to seek validation from features of social media?':'Self Esteem Q2',\n",
    "                       '18. How often do you feel depressed or down?':'Depression Q1',\n",
    "                       '19. On a scale of 1 to 5, how frequently does your interest in daily activities fluctuate?':'Depression Q2',\n",
    "                       '20. On a scale of 1 to 5, how often do you face issues regarding sleep?':'Depression Q3' },inplace=True)\n"
   ]
  },
  {
   "cell_type": "code",
   "execution_count": null,
   "id": "7e4a090d-85aa-4ded-b9f0-91824ffd8f38",
   "metadata": {},
   "outputs": [],
   "source": [
    "# Custom app ranges\n",
    "appBins = [1, 2, 5, 20]\n",
    "\n",
    "# Labels for the app groups\n",
    "appLabels = ['1-2', '3-5', '6+']  \n",
    "\n",
    "#Bin the new groups\n",
    "socialApps_df['App Groups'] = pd.cut(socialApps_df['Number of Apps'], bins=appBins, labels=appLabels,include_lowest=True)"
   ]
  },
  {
   "cell_type": "code",
   "execution_count": null,
   "id": "fbdcfe5d-7821-43ca-a469-fc2abf13f46a",
   "metadata": {},
   "outputs": [],
   "source": [
    "socialApps_df.head()"
   ]
  },
  {
   "cell_type": "code",
   "execution_count": null,
   "id": "f13a1502-416b-44f0-84d9-9cd3e9c3daa8",
   "metadata": {},
   "outputs": [],
   "source": [
    "#Create a chart to detail time spent on social media vs amount of platforms\n",
    "statSummary = socialApps_df.groupby('Average Time on Social Media')\n",
    "\n",
    "averageNumberOfApps = statSummary['Number of Apps'].mean()\n",
    "\n",
    "plt.bar(averageNumberOfApps.index, averageNumberOfApps, edgecolor='black')\n",
    "plt.xlabel(\"Average Time Spent on Social Media\")\n",
    "plt.ylabel(\"Average Amount of Apps\")\n",
    "plt.title('Average Time Spent vs Average Amount of Platforms')\n",
    "plt.yticks(np.arange(0,5,step=0.5))\n",
    "plt.show()\n",
    "averageNumberOfApps"
   ]
  },
  {
   "cell_type": "code",
   "execution_count": null,
   "id": "8cdf8907-e47d-42d7-9849-070152354c8d",
   "metadata": {},
   "outputs": [],
   "source": [
    "from collections import Counter\n",
    "\n",
    "#Flatten List of lists ex: ([[\"A\"], [\"B\"], [\"C\"]] = [\"A\", \"B\", \"C\"])\n",
    "appsTotalList = [item for sublist in listOfApps for item in sublist]\n",
    "\n",
    "#Count total amount of recorded platforms\n",
    "recordedAppsTotal = Counter(appsTotalList)\n",
    "\n",
    "#Create into DF\n",
    "recordedAppsTotal_df = pd.DataFrame.from_dict(recordedAppsTotal, orient='index', columns=[\"Total\"])"
   ]
  },
  {
   "cell_type": "code",
   "execution_count": null,
   "id": "a16572e8-6166-4b2f-ac5a-cd6aabec4faa",
   "metadata": {},
   "outputs": [],
   "source": [
    "#Plot the recorded results of platforms\n",
    "plt.bar(recordedAppsTotal_df.index, recordedAppsTotal_df['Total'], width=0.6, align='center', color='blue', edgecolor='black')\n",
    "plt.xticks(rotation=45)\n",
    "plt.title('Total Amount for Platforms Used')\n",
    "plt.ylabel('Total Amount Reported')\n",
    "plt.xlabel('Social Media Platforms')\n",
    "plt.show()\n",
    "recordedAppsTotal_df"
   ]
  },
  {
   "cell_type": "code",
   "execution_count": null,
   "id": "9fcfdf89-c4f6-40ad-a84b-22008f80dbe7",
   "metadata": {},
   "outputs": [],
   "source": [
    "#Create a column for ADHD Total questions, 4 Question total (20 points Max)\n",
    "socialApps_df['ADHD Total Score'] = socialApps_df['ADHD Q1'] + socialApps_df['ADHD Q2'] + socialApps_df['ADHD Q3'] + socialApps_df['ADHD Q4']\n",
    "\n",
    "#Create a column for Self Esteem Total questions, 2 Question total (10 points Max)\n",
    "socialApps_df['Self Esteem Total Score'] = socialApps_df['Self Esteem Q1'] + socialApps_df['Self Esteem Q2']\n",
    "\n",
    "#Create a column for Anxiety Total questions, 2 Question total (10 points Max)\n",
    "socialApps_df['Anxiety Total Score'] = socialApps_df['Anxiety Q1'] + socialApps_df['Anxiety Q2']\n",
    "\n",
    "#Create a column for Depression total questions, 3 Question total (15 points Max)\n",
    "socialApps_df['Depression Total Score'] = socialApps_df['Depression Q1'] + socialApps_df['Depression Q2'] + socialApps_df['Depression Q3']\n",
    "\n",
    "#Create a column for Total Amount of questions, 11 Question total (55 points Max)\n",
    "socialApps_df['Total Score'] = socialApps_df['ADHD Total Score'] + socialApps_df['Self Esteem Total Score'] + socialApps_df['Anxiety Total Score'] + socialApps_df['Depression Total Score']\n"
   ]
  },
  {
   "cell_type": "code",
   "execution_count": null,
   "id": "bea885ce-ba8a-4010-95fd-c166a7006914",
   "metadata": {},
   "outputs": [],
   "source": [
    "#Filter for specific platform of the top 3, Facebook\n",
    "filtered_list = []\n",
    "for index, row in socialApps_df.iterrows():\n",
    "    temp = row['7. What social media platforms do you commonly use?'].split()\n",
    "    if 'Facebook' in temp and len(temp) == 1:\n",
    "        filtered_list.append(row)\n",
    "filtered_df = pd.DataFrame(filtered_list)\n",
    "filtered_df.head()"
   ]
  },
  {
   "cell_type": "code",
   "execution_count": null,
   "id": "a73ac1e3-716b-4bfb-89de-632ee2541d0c",
   "metadata": {},
   "outputs": [],
   "source": [
    "#Filter for specific platform of the top 3, Instagram\n",
    "filtered_list_in = []\n",
    "for index, row in socialApps_df.iterrows():\n",
    "    temp = row['7. What social media platforms do you commonly use?'].split()\n",
    "    if 'Instagram' in temp and len(temp) == 1:\n",
    "        filtered_list_in.append(row)\n",
    "filteredIn_df = pd.DataFrame(filtered_list_in)\n",
    "filteredIn_df.head()"
   ]
  },
  {
   "cell_type": "code",
   "execution_count": null,
   "id": "bf773d6c-467a-4a0d-bf53-ceff8ac2990a",
   "metadata": {},
   "outputs": [],
   "source": [
    "#Filter for specific platform of the top 3, YouTube\n",
    "filtered_list_yt = []\n",
    "for index, row in socialApps_df.iterrows():\n",
    "    temp = row['7. What social media platforms do you commonly use?'].split()\n",
    "    if 'YouTube' in temp and len(temp) == 1:\n",
    "        filtered_list_yt.append(row)\n",
    "filteredYT_df = pd.DataFrame(filtered_list_yt)\n",
    "filteredYT_df.head()"
   ]
  },
  {
   "cell_type": "code",
   "execution_count": null,
   "id": "41cbc7f1-1d45-4416-8f89-3fd269a017e1",
   "metadata": {},
   "outputs": [],
   "source": [
    "#Plot the individual platform average scores.\n",
    "fig, (ax1, ax2, ax3) = plt.subplots(1, 3)\n",
    "\n",
    "ax1.boxplot(filtered_df['Total Score'])\n",
    "ax2.boxplot(filteredIn_df['Total Score'])\n",
    "ax3.boxplot(filteredYT_df['Total Score'])\n",
    "ax1.set_ylabel('Average Frequency Score from Recipients')\n",
    "ax2.set_xlabel('Platform')\n",
    "ax2.set_title('Platform vs Average Total Score')\n",
    "ax1.set_xticklabels(['Facebook'])\n",
    "ax2.set_xticklabels(['Instagram'])\n",
    "ax3.set_xticklabels(['YouTube'])\n",
    "ax2.set_yticks(np.arange(32, 50, step=2))\n",
    "plt.yticks(np.arange(5, 50, step=5))\n",
    "plt.show()"
   ]
  },
  {
   "cell_type": "code",
   "execution_count": null,
   "id": "e540c4dc-3e4a-499f-913a-279921a48c40",
   "metadata": {},
   "outputs": [],
   "source": [
    "#Show columns in social apps\n",
    "socialApps_df.columns"
   ]
  },
  {
   "cell_type": "code",
   "execution_count": null,
   "id": "dd6be427-aeca-4c18-81ba-ec3cd3b25cd3",
   "metadata": {},
   "outputs": [],
   "source": [
    "#Aggregate Averages for Tendency by Category and Total\n",
    "totalScoreNumberOfApps = socialApps_df.groupby('App Groups').agg({'ADHD Total Score': 'mean', 'Self Esteem Total Score': 'mean',\n",
    "       'Anxiety Total Score': 'mean', 'Depression Total Score': 'mean', 'Total Score': 'mean'})\n",
    "\n",
    "X_axis = np.arange(len(totalScoreNumberOfApps.index))\n",
    "\n",
    "#Plot the average question type scores amongst the groups\n",
    "plt.bar(X_axis - 0.34, totalScoreNumberOfApps['Self Esteem Total Score'], width=0.2, edgecolor='black', zorder=3)\n",
    "plt.bar(X_axis - 0.11, totalScoreNumberOfApps['Anxiety Total Score'], width=0.2, edgecolor='black', zorder=3)\n",
    "plt.bar(X_axis + 0.11, totalScoreNumberOfApps['Depression Total Score'], width=0.2, edgecolor='black', zorder=3)\n",
    "plt.bar(X_axis + 0.34, totalScoreNumberOfApps['ADHD Total Score'], width=0.2, edgecolor='black', zorder=3)\n",
    "plt.xticks(X_axis, totalScoreNumberOfApps.index)\n",
    "plt.yticks(np.arange(0, 20 , step=2))\n",
    "plt.grid(axis='y', color='gray', linewidth=0.4, zorder=0)\n",
    "plt.legend(['Avg Self Esteem Total Score (2 Q)', 'Avg Anxiety Total Score (2 Q)', 'Avg Depression Total Score (3 Q)','Avg ADHD Total Score (4 Q)'], bbox_to_anchor=(1, 1))\n",
    "plt.ylabel('Average Scores *Higher being worse')\n",
    "plt.xlabel('Collection of Platform Groups')\n",
    "plt.annotate(\"31\", (0,14))\n",
    "plt.annotate(\"35\", (1,14))\n",
    "plt.annotate(\"37\", (2,14))\n",
    "plt.title('Average Tendency Score vs Number of Platorms')\n",
    "plt.savefig('output_data/averageTendencyScorePlatforms')\n",
    "plt.show()\n",
    "totalScoreNumberOfApps"
   ]
  },
  {
   "cell_type": "code",
   "execution_count": null,
   "id": "897fca61-895d-4067-b224-54deb5917f0a",
   "metadata": {},
   "outputs": [],
   "source": [
    "#Plot the distribution of Platforms used\n",
    "variationNumberOfApps = socialApps_df.groupby('Number of Apps')\n",
    "\n",
    "test3 = variationNumberOfApps.count()\n",
    "plt.bar(test3.index, test3['2. Gender'], align='center', edgecolor='black')\n",
    "plt.ylabel('Total Number of Recipients')\n",
    "plt.xlabel('Number of Platforms')\n",
    "plt.title('Distribution of Number of Platforms vs Number of Recipients')\n",
    "plt.xticks(test3.index)\n",
    "plt.savefig('output_data/distributionNumberOfPlatforms')\n",
    "plt.show()"
   ]
  },
  {
   "cell_type": "code",
   "execution_count": null,
   "id": "43125bd3-8714-4a97-b91d-1e70d523462f",
   "metadata": {},
   "outputs": [],
   "source": [
    "#Scatter plot number of apps vs total frequency score\n",
    "plt.scatter(socialApps_df['Number of Apps'], socialApps_df['Total Score'] , marker='o', alpha=0.6, edgecolors='black', s=60)\n",
    "\n",
    "#Perform linear regression\n",
    "slope, intercept, r, p, stderr = linregress(socialApps_df['Number of Apps'], socialApps_df['Total Score'])\n",
    "\n",
    "#y=mx+b\n",
    "line = slope * socialApps_df['Number of Apps'] + intercept\n",
    "\n",
    "#Create plot\n",
    "plt.plot(socialApps_df['Number of Apps'], line, 'r')\n",
    "plt.annotate(f\"y={slope:0.02f}x + {intercept:0.02f}\", (6, 10), color='r')\n",
    "plt.ylabel('Total Score from Recipients')\n",
    "plt.xlabel('Number of Platforms')\n",
    "plt.title('Total Frequency Score vs Number of Platforms')\n",
    "plt.yticks(np.arange(5, 65, step=5))\n",
    "plt.savefig('output_data/totalFrequencyVsNumberPlatforms')\n",
    "plt.show()\n",
    "#Weak Correlation\n",
    "print(f\"Pearson Correlation Factor: {r:0.02f}, Weak Correlation\")"
   ]
  },
  {
   "cell_type": "code",
   "execution_count": null,
   "id": "e3888766-9044-49d8-a220-af322932bbe0",
   "metadata": {},
   "outputs": [],
   "source": [
    "# Use group by and size function to perform the calculation\n",
    "age_and_sleep_deprivation = main_df.groupby([\"Age Groups\",\"20. On a scale of 1 to 5, how often do you face issues regarding sleep?\"])\n",
    "age_and_sleep_deprivation_count = age_and_sleep_deprivation.size().reset_index(name='Rating Count per Age Group')\n",
    "# Create a pivot table that contains count of the responses,scale wise.\n",
    "age_and_sleep_dep = age_and_sleep_deprivation_count.pivot(index='Age Groups', columns='20. On a scale of 1 to 5, how often do you face issues regarding sleep?',values= 'Rating Count per Age Group')\n",
    "age_and_sleep_dep['Total'] = age_and_sleep_dep.sum(axis=1)\n",
    "age_and_sleep_dep.loc['Total'] = age_and_sleep_dep.sum(axis=0)\n",
    "age_and_sleep_dep"
   ]
  },
  {
   "cell_type": "code",
   "execution_count": null,
   "id": "1644de6a-940c-4e8d-9e02-e30b98e28fe5",
   "metadata": {},
   "outputs": [],
   "source": [
    "# Drop the extra colums and rows that are not needed. \n",
    "age_and_sleep_dep = age_and_sleep_dep.drop('Total', axis=0)\n",
    "age_and_sleep_dep = age_and_sleep_dep.drop('Total', axis=1)\n",
    "\n",
    "# Plot info for people with sleep deprivation by age group and display in a bar chart.\n",
    "age_and_sleep_dep.plot(kind='bar',figsize=(13,8))\n",
    "plt.xlabel('Age Group')\n",
    "plt.ylabel('Response')\n",
    "plt.title('People with sleep deprivation by Age Group')\n",
    "plt.legend(title = 'Rating', loc='upper right', bbox_to_anchor=(1, 1))\n",
    "plt.savefig(\"output_data/sleepDeprivationAndAgegroup.png\")\n",
    "plt.show()"
   ]
  },
  {
   "cell_type": "code",
   "execution_count": null,
   "id": "76c32321-ec1a-4475-b195-770ded1fad71",
   "metadata": {},
   "outputs": [],
   "source": [
    "# Create the table with gender, use groupby and aggegrate the number of genders, scale wise.\n",
    "gender_sleep_deprivation =main_df.groupby([\"2. Gender\",\"20. On a scale of 1 to 5, how often do you face issues regarding sleep?\"]).agg({'2. Gender': ['count']})\n",
    "gender_sleep_deprivation.reset_index()"
   ]
  },
  {
   "cell_type": "code",
   "execution_count": null,
   "id": "28f0f084-d4a6-4cb4-a7df-e5cd4507b689",
   "metadata": {},
   "outputs": [],
   "source": [
    "# Create bin to group the scales. \n",
    "scale_binning = [0,2.5,3.5,6]\n",
    "scale_range =[\"1-2\", \"3\", \"4-5\"]\n",
    "scale_group_df = main_df.copy()\n",
    "scale_group_df[\"Scale Groups\"]=pd.cut(scale_group_df[\"20. On a scale of 1 to 5, how often do you face issues regarding sleep?\"],scale_binning, labels = scale_range, include_lowest=False)"
   ]
  },
  {
   "cell_type": "code",
   "execution_count": null,
   "id": "cb43a8d3-aa77-4771-9760-0f8d2999140c",
   "metadata": {},
   "outputs": [],
   "source": [
    "# Creat a table having gender, scale groups, and count of those that lise under the particular bin.\n",
    "gender_sleep_deprivation = scale_group_df.groupby([\"2. Gender\",\"Scale Groups\"]).agg({'2. Gender': ['count']}).reset_index()\n",
    "gender_sleep_deprivation.columns = ['Gender', 'Scale Groups', 'Count']\n",
    "gender_sleep_deprivation"
   ]
  },
  {
   "cell_type": "code",
   "execution_count": null,
   "id": "3f35d3e8-b7d2-4046-9ddb-be2247bc8eb5",
   "metadata": {},
   "outputs": [],
   "source": [
    "# Filter out the male,female, and others from the gender_sleep_deprivation table and plot the different pie chart to show the trend on sleep issue. \n",
    "# Separate the female data\n",
    "female_data =gender_sleep_deprivation[gender_sleep_deprivation[\"Gender\"]==\"Female\"]\n",
    "# Separate the male data\n",
    "male_data =gender_sleep_deprivation[gender_sleep_deprivation[\"Gender\"]==\"Male\"]\n",
    "# Separate the other data\n",
    "other_data =gender_sleep_deprivation[gender_sleep_deprivation[\"Gender\"]==\"Others\"]\n",
    "#Use subplot to show different chart for each of the filtered out data.\n",
    "plt.subplot(1, 3, 1)\n",
    "plt.suptitle(\"Sleep deprivation in different gender\", fontsize=16)\n",
    "_ = plt.pie(male_data[\"Count\"], labels=male_data[\"Scale Groups\"], autopct=\"%1.1f%%\")\n",
    "plt.title(\"Male\")\n",
    "\n",
    "plt.subplot(1, 3, 2)\n",
    "_ = plt.pie(female_data[\"Count\"], labels=female_data[\"Scale Groups\"], autopct=\"%1.1f%%\")\n",
    "_ = plt.title(\"Female\")\n",
    "\n",
    "plt.subplot(1,3,3)\n",
    "_ = plt.pie(other_data[\"Count\"], labels=other_data[\"Scale Groups\"], autopct=\"%1.1f%%\")\n",
    "_ = plt.title(\"Others\")\n",
    "plt.tight_layout(pad=1.0)\n",
    "plt.savefig(\"output_data/sleepDeprivationAndGender.png\")\n"
   ]
  },
  {
   "cell_type": "markdown",
   "id": "65689936-a885-4506-9242-208b2c8d5e29",
   "metadata": {
    "tags": []
   },
   "source": [
    "## Sleep Deprivation in different gender\n",
    "From the above pie chart, we can conclude that there is no big significance in rating for sleep deprivation in different genders. The ratings between both male and female groups are almost similar. I have tried to plot the chart for others even-though the data set was extremely low. We can see the similar trend between all the genders.There isn’t specific pattern. All the genders male, female and others are equally affected by the social media in term of sleep. They all are being sleep deprived by the social media. So we can say that the social media is being an issue and affecting all genders on their mental health."
   ]
  },
  {
   "cell_type": "code",
   "execution_count": null,
   "id": "e32da232-7fd6-4e5d-bbb6-1e43ecb2265f",
   "metadata": {},
   "outputs": [],
   "source": [
    "sleep_depravation_rating = main_df[\"20. On a scale of 1 to 5, how often do you face issues regarding sleep?\"].mean()\n",
    "sleep_depravation_rating\n"
   ]
  },
  {
   "cell_type": "code",
   "execution_count": null,
   "id": "04294f59-d7df-4704-a56f-850e0969983e",
   "metadata": {},
   "outputs": [],
   "source": [
    "# Use groupby to categorize data by Occupation.\n",
    "occupation_sleep_dep = main_df.groupby([\"4. Occupation Status\",\"20. On a scale of 1 to 5, how often do you face issues regarding sleep?\"])\n",
    "occupation_sleep_deprivation_count = occupation_sleep_dep.size().reset_index(name='Rating Count per Occupation')\n",
    "# Create pivot table using the the data after groupby.\n",
    "occupation_sleep_deprivation = occupation_sleep_deprivation_count.pivot(index='4. Occupation Status', columns='20. On a scale of 1 to 5, how often do you face issues regarding sleep?',values= 'Rating Count per Occupation')\n",
    "occupation_sleep_deprivation['Total'] = occupation_sleep_deprivation.sum(axis=1)\n",
    "occupation_sleep_deprivation.loc['Total'] = occupation_sleep_deprivation.sum(axis=0)\n",
    "occupation_sleep_deprivation"
   ]
  },
  {
   "cell_type": "code",
   "execution_count": null,
   "id": "a53f833c-fb6b-4209-8ff8-6e780721cd3c",
   "metadata": {},
   "outputs": [],
   "source": [
    "# Drop the unwanted row and column.\n",
    "occupation_sleep_deprivation = occupation_sleep_deprivation.drop('Total', axis=0)\n",
    "occupation_sleep_deprivation = occupation_sleep_deprivation.drop('Total', axis=1)\n",
    "# Plot info\n",
    "occupation_sleep_deprivation.plot(kind='bar',figsize=(13,8))\n",
    "plt.xlabel('Occupation')\n",
    "plt.ylabel('Response')\n",
    "plt.title('People with sleep deprivation by Occupation')\n",
    "plt.legend(title = 'Rating', loc='upper right', bbox_to_anchor=(1, 1))\n",
    "plt.savefig(\"output_data/sleepDeprivationAndOccupation.png\")\n",
    "plt.show()"
   ]
  },
  {
   "cell_type": "markdown",
   "id": "4c15f09f-e1f6-45f3-a175-e39ba0153c92",
   "metadata": {},
   "source": [
    "## People with sleep deprivation by Occupation\n",
    "Here we can say that the salaried workers and the university students are into social media more than retired and school students. It is because of the kind of data set as well. The proportion of the data of people between 20 to 29 is comparatively high. So we cannot make the conclusion here. If we had closely distributed data set we could come up with the good conculsion at this point. We will definately through in the future. "
   ]
  },
  {
   "cell_type": "code",
   "execution_count": null,
   "id": "db7db2a5-024f-4e2c-9817-cb17faf90316",
   "metadata": {},
   "outputs": [],
   "source": [
    "#Get Number of Social Apps into a List\n",
    "appsList = main_df.iloc[:, 7]\n",
    "\n",
    "#Creating a variable to store # amount of apps\n",
    "numberOfApps = []\n",
    "\n",
    "#Creating a variable to store list of the split result string list\n",
    "listOfApps = []\n",
    "\n",
    "for app in appsList:\n",
    "    listOfApps.append(app.split(\";\"))\n",
    "\n",
    "#Add Number of Apps to DF\n",
    "\n",
    "listOfNumberApps = [len(x) for x in listOfApps]\n",
    "\n",
    "main_df['Number of Apps'] = listOfNumberApps\n",
    "main_df.head()"
   ]
  },
  {
   "cell_type": "code",
   "execution_count": null,
   "id": "749c4f04-9e41-4c1a-b4a6-2f638e9d8189",
   "metadata": {},
   "outputs": [],
   "source": [
    "# Use groupby to create the pivot tables.\n",
    "New_test = main_df.loc[ :, [\"1. What is your age?\",\"2. Gender\",\"4. Occupation Status\",\"20. On a scale of 1 to 5, how often do you face issues regarding sleep?\",\"Age Groups\",\"Number of Apps\",\"Average Time on Social Media\"]]\n",
    "sleep_deprivation =New_test.groupby([\"Average Time on Social Media\",\"Age Groups\"])\n",
    "sleep_deprivation_count = sleep_deprivation.size().reset_index(name='Rating Count per Age Group')\n",
    "sleep_dep =sleep_deprivation_count.pivot(index=\"Average Time on Social Media\", columns=\"Age Groups\",values= 'Rating Count per Age Group')\n",
    "sleep_dep['Total'] = sleep_dep.sum(axis=1)\n",
    "sleep_dep.loc['Total'] = sleep_dep.sum(axis=0)\n",
    "sleep_dep"
   ]
  },
  {
   "cell_type": "code",
   "execution_count": null,
   "id": "2358c157-c8ee-419f-b02d-8978afa0ea82",
   "metadata": {},
   "outputs": [],
   "source": [
    "# Drop the not needed column and row from the pivot table.\n",
    "sleep_dep = sleep_dep.drop('Total', axis=0)\n",
    "sleep_dep = sleep_dep.drop('Total', axis=1)\n",
    "\n",
    "# Plot info\n",
    "sleep_dep.plot(kind='bar',figsize=(13,8))\n",
    "plt.xlabel('Age Group')\n",
    "plt.ylabel('Response')\n",
    "plt.title('People with sleep deprivation by Age Group')\n",
    "plt.legend(title = 'Rating', loc='upper right', bbox_to_anchor=(1, 1))\n",
    "plt.show()"
   ]
  },
  {
   "cell_type": "code",
   "execution_count": null,
   "id": "174dcbfc-144c-447a-80d4-cb66c3dbf357",
   "metadata": {},
   "outputs": [],
   "source": [
    "app_and_hours =New_test.groupby([\"Number of Apps\"])\n",
    "app_count = pd.DataFrame(app_and_hours[\"Average Time on Social Media\"].count()).reset_index()\n",
    "average_time =app_count[\"Average Time on Social Media\"] \n",
    "number_of_app =app_count['Number of Apps']\n",
    "(slope, intercept, rvalue, pvalue, stderr) = linregress(number_of_app, average_time)\n",
    "regress_values = number_of_app * slope + intercept\n",
    "line_eq = \"y = \" + str(round(slope,2)) + \"x + \" + str(round(intercept,2))\n",
    "plt.scatter(number_of_app, average_time)\n",
    "plt.plot(number_of_app,regress_values,\"r-\")\n",
    "plt.ylabel(\"Average Time on Social Media\")\n",
    "plt.xlabel(\"Number of Apps\")\n",
    "plt.show()"
   ]
  },
  {
   "cell_type": "code",
   "execution_count": null,
   "id": "e26d7562-3b33-481c-86fb-04ae352ec775",
   "metadata": {},
   "outputs": [],
   "source": [
    "time_spent_on_social_media = []\n",
    "for index, row in main_df.iterrows():\n",
    "    if row['8. What is the average time you spend on social media every day?'] == 'Between 0 and 1 hours':\n",
    "        time_spent_on_social_media.append(1)\n",
    "    if row['8. What is the average time you spend on social media every day?'] == 'Less than an Hour':\n",
    "        time_spent_on_social_media.append(0.5)\n",
    "    elif row['8. What is the average time you spend on social media every day?'] == 'Between 1 and 2 hours':\n",
    "        time_spent_on_social_media.append(1)\n",
    "    elif row['8. What is the average time you spend on social media every day?'] == 'Between 2 and 3 hours':\n",
    "        time_spent_on_social_media.append(2)\n",
    "    elif row['8. What is the average time you spend on social media every day?'] == 'Between 3 and 4 hours':\n",
    "        time_spent_on_social_media.append(3)\n",
    "    elif row['8. What is the average time you spend on social media every day?'] == 'Between 4 and 5 hours':\n",
    "        time_spent_on_social_media.append(4)\n",
    "    elif row['8. What is the average time you spend on social media every day?'] == 'More than 5 hours':\n",
    "        time_spent_on_social_media.append(5)\n",
    "main_df['Time Spent'] = time_spent_on_social_media\n",
    "main_df.head(2)"
   ]
  },
  {
   "cell_type": "code",
   "execution_count": null,
   "id": "c869274f-256e-40ef-baf8-c95b78568742",
   "metadata": {},
   "outputs": [],
   "source": [
    "half_hour_df = main_df.loc[main_df[\"Time Spent\"]== 0.5,: ]\n",
    "one_hour_df = main_df.loc[main_df[\"Time Spent\"]== 1,: ]\n",
    "two_hour_df = main_df.loc[main_df[\"Time Spent\"]== 2,: ]\n",
    "three_hour_df = main_df.loc[main_df[\"Time Spent\"]== 3,: ]\n",
    "four_hour_df = main_df.loc[main_df[\"Time Spent\"]== 4,: ]\n",
    "five_hour_df = main_df.loc[main_df[\"Time Spent\"]== 5,: ]\n",
    "five_hour_df.head(2)"
   ]
  },
  {
   "cell_type": "code",
   "execution_count": null,
   "id": "398a1e1c-55ac-4373-98bd-ec4835ec7812",
   "metadata": {},
   "outputs": [],
   "source": [
    "fig, (ax1, ax2, ax3, ax4, ax5, ax6) = plt.subplots(1, 6)\n",
    "fig.set_size_inches(18, 10)\n",
    "ax1.boxplot(half_hour_df['20. On a scale of 1 to 5, how often do you face issues regarding sleep?'])\n",
    "ax2.boxplot(one_hour_df['20. On a scale of 1 to 5, how often do you face issues regarding sleep?'])\n",
    "ax3.boxplot(two_hour_df['20. On a scale of 1 to 5, how often do you face issues regarding sleep?'])\n",
    "ax4.boxplot(three_hour_df['20. On a scale of 1 to 5, how often do you face issues regarding sleep?'])\n",
    "ax5.boxplot(four_hour_df['20. On a scale of 1 to 5, how often do you face issues regarding sleep?'])\n",
    "ax6.boxplot(five_hour_df['20. On a scale of 1 to 5, how often do you face issues regarding sleep?'])\n",
    "ax1.set_ylabel('Sleep Deprivation')\n",
    "ax3.set_xlabel('Time Spent on social media')\n",
    "ax3.set_title('Time Spent on social Media Vs Sleep Deprivation')\n",
    "ax1.set_xticklabels([\"Half hour\"])\n",
    "ax2.set_xticklabels([\"one hour\"])\n",
    "ax3.set_xticklabels([\"two hours\"])\n",
    "ax4.set_xticklabels([\"three hours\"])\n",
    "ax5.set_xticklabels([\"four hours\"])\n",
    "ax6.set_xticklabels([\"Five hours\"])\n",
    "plt.savefig(\"output_data/timeSpentOnSocialMediaVsSleepDeprivation\")\n",
    "plt.show()"
   ]
  },
  {
   "cell_type": "markdown",
   "id": "88fae27c-be83-407b-993c-0faa9a5d9ffe",
   "metadata": {},
   "source": [
    "# Time Spent on social Media Vs Sleep Deprivation\n",
    "1. From the box plot \"Time spent on social media vs sleep deprivation\", We can see how the rating are increasing with the time spent on the social media, from half hour to one hour we can see the increment in the ratings, there is not much difference in one and two hours but going to three hours to 4 hours we can see huge difference in the ratings.From this chart we can infer that the more time we spend on social media,the more sleep deprived we become.As a result, the depression total score increases as we spent more time on social media. Therefore, social media does have a negative impace on mental health.' \n",
    "2. There is still a lot to consider in this project like getting the more closely distributed data, big data sets and different other factors like weather, seasons etc. If had more time to explore on this topics we could come up with other interesting analysis as well. "
   ]
  }
 ],
 "metadata": {
  "kernelspec": {
   "display_name": "Python 3 (ipykernel)",
   "language": "python",
   "name": "python3"
  },
  "language_info": {
   "codemirror_mode": {
    "name": "ipython",
    "version": 3
   },
   "file_extension": ".py",
   "mimetype": "text/x-python",
   "name": "python",
   "nbconvert_exporter": "python",
   "pygments_lexer": "ipython3",
   "version": "3.10.9"
  }
 },
 "nbformat": 4,
 "nbformat_minor": 5
}
